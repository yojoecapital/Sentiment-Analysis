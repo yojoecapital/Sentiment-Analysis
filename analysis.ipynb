{
 "cells": [
  {
   "cell_type": "code",
   "execution_count": 89,
   "metadata": {},
   "outputs": [],
   "source": [
    "import torch\n",
    "import pandas as pd\n",
    "import torchtext\n",
    "from torchtext import data\n",
    "import matplotlib.pyplot as plt\n",
    "import torch.optim as optim\n",
    "import torch.nn as nn\n",
    "import time\n",
    "from datetime import timedelta"
   ]
  },
  {
   "cell_type": "markdown",
   "metadata": {},
   "source": [
    "Uncomment the line below to download the spaCy tokenizer if not already done so"
   ]
  },
  {
   "cell_type": "code",
   "execution_count": 10,
   "metadata": {},
   "outputs": [],
   "source": [
    "#!python -m spacy download en"
   ]
  },
  {
   "cell_type": "code",
   "execution_count": 36,
   "metadata": {},
   "outputs": [
    {
     "name": "stdout",
     "output_type": "stream",
     "text": [
      "0.6.0\n",
      "2.1.1+cu118\n",
      "cuda\n"
     ]
    }
   ],
   "source": [
    "device = torch.device(\"cuda\" if torch.cuda.is_available() else \"cpu\")\n",
    "print(torchtext.__version__)\n",
    "print(torch.__version__)\n",
    "print(device)\n",
    "torch.backends.cudnn.deterministic = True\n",
    "\n",
    "# constants\n",
    "FILE_NAME = \"training.1600000.processed.noemoticon.csv\"\n",
    "SUBSET_FILE_NAME = \"data.csv\"\n",
    "N = 80000\n",
    "SEED = 1\n",
    "SPLIT_RATIO = [0.7, 0.15, 0.15]\n",
    "MAX_VOCAB_SIZE = 30000\n",
    "GLOVE_VECTORS = \"glove.6B.100d\"\n",
    "GLOVE_DIM = 100\n",
    "BATCH_SIZE = 128"
   ]
  },
  {
   "cell_type": "markdown",
   "metadata": {},
   "source": [
    "## Data Preprocessing"
   ]
  },
  {
   "cell_type": "code",
   "execution_count": 6,
   "metadata": {},
   "outputs": [
    {
     "data": {
      "text/html": [
       "<div>\n",
       "<style scoped>\n",
       "    .dataframe tbody tr th:only-of-type {\n",
       "        vertical-align: middle;\n",
       "    }\n",
       "\n",
       "    .dataframe tbody tr th {\n",
       "        vertical-align: top;\n",
       "    }\n",
       "\n",
       "    .dataframe thead th {\n",
       "        text-align: right;\n",
       "    }\n",
       "</style>\n",
       "<table border=\"1\" class=\"dataframe\">\n",
       "  <thead>\n",
       "    <tr style=\"text-align: right;\">\n",
       "      <th></th>\n",
       "      <th>0</th>\n",
       "      <th>1</th>\n",
       "      <th>2</th>\n",
       "      <th>3</th>\n",
       "      <th>4</th>\n",
       "      <th>5</th>\n",
       "    </tr>\n",
       "  </thead>\n",
       "  <tbody>\n",
       "    <tr>\n",
       "      <th>0</th>\n",
       "      <td>0</td>\n",
       "      <td>1467810369</td>\n",
       "      <td>Mon Apr 06 22:19:45 PDT 2009</td>\n",
       "      <td>NO_QUERY</td>\n",
       "      <td>_TheSpecialOne_</td>\n",
       "      <td>@switchfoot http://twitpic.com/2y1zl - Awww, t...</td>\n",
       "    </tr>\n",
       "    <tr>\n",
       "      <th>1</th>\n",
       "      <td>0</td>\n",
       "      <td>1467810672</td>\n",
       "      <td>Mon Apr 06 22:19:49 PDT 2009</td>\n",
       "      <td>NO_QUERY</td>\n",
       "      <td>scotthamilton</td>\n",
       "      <td>is upset that he can't update his Facebook by ...</td>\n",
       "    </tr>\n",
       "    <tr>\n",
       "      <th>2</th>\n",
       "      <td>0</td>\n",
       "      <td>1467810917</td>\n",
       "      <td>Mon Apr 06 22:19:53 PDT 2009</td>\n",
       "      <td>NO_QUERY</td>\n",
       "      <td>mattycus</td>\n",
       "      <td>@Kenichan I dived many times for the ball. Man...</td>\n",
       "    </tr>\n",
       "    <tr>\n",
       "      <th>3</th>\n",
       "      <td>0</td>\n",
       "      <td>1467811184</td>\n",
       "      <td>Mon Apr 06 22:19:57 PDT 2009</td>\n",
       "      <td>NO_QUERY</td>\n",
       "      <td>ElleCTF</td>\n",
       "      <td>my whole body feels itchy and like its on fire</td>\n",
       "    </tr>\n",
       "    <tr>\n",
       "      <th>4</th>\n",
       "      <td>0</td>\n",
       "      <td>1467811193</td>\n",
       "      <td>Mon Apr 06 22:19:57 PDT 2009</td>\n",
       "      <td>NO_QUERY</td>\n",
       "      <td>Karoli</td>\n",
       "      <td>@nationwideclass no, it's not behaving at all....</td>\n",
       "    </tr>\n",
       "  </tbody>\n",
       "</table>\n",
       "</div>"
      ],
      "text/plain": [
       "   0           1                             2         3                4  \\\n",
       "0  0  1467810369  Mon Apr 06 22:19:45 PDT 2009  NO_QUERY  _TheSpecialOne_   \n",
       "1  0  1467810672  Mon Apr 06 22:19:49 PDT 2009  NO_QUERY    scotthamilton   \n",
       "2  0  1467810917  Mon Apr 06 22:19:53 PDT 2009  NO_QUERY         mattycus   \n",
       "3  0  1467811184  Mon Apr 06 22:19:57 PDT 2009  NO_QUERY          ElleCTF   \n",
       "4  0  1467811193  Mon Apr 06 22:19:57 PDT 2009  NO_QUERY           Karoli   \n",
       "\n",
       "                                                   5  \n",
       "0  @switchfoot http://twitpic.com/2y1zl - Awww, t...  \n",
       "1  is upset that he can't update his Facebook by ...  \n",
       "2  @Kenichan I dived many times for the ball. Man...  \n",
       "3    my whole body feels itchy and like its on fire   \n",
       "4  @nationwideclass no, it's not behaving at all....  "
      ]
     },
     "execution_count": 6,
     "metadata": {},
     "output_type": "execute_result"
    }
   ],
   "source": [
    "df = pd.read_csv(FILE_NAME, header=None, engine=\"python\", encoding=\"latin-1\")\n",
    "df.head()"
   ]
  },
  {
   "cell_type": "markdown",
   "metadata": {},
   "source": [
    "According the description from source page on [kaggle](https://www.kaggle.com/datasets/kazanova/sentiment140/data), there are 3 possible labels: \"0 = negative, 2 = neutral, 4 = positive.\" As shown below however, the label has 2 possible values: `0` for negative sentiment and `1` for positive. The target is actually binary simplifying classification task."
   ]
  },
  {
   "cell_type": "code",
   "execution_count": 7,
   "metadata": {},
   "outputs": [
    {
     "name": "stdout",
     "output_type": "stream",
     "text": [
      "0\n",
      "0    800000\n",
      "4    800000\n",
      "Name: count, dtype: int64\n"
     ]
    }
   ],
   "source": [
    "print(df[0].value_counts())\n",
    "\n",
    "# replace the values to 0 and 1\n",
    "df[0] = df[0].replace(to_replace=4, value=1)\n",
    "\n",
    "# sample the dataset and save the file\n",
    "subset_df = df.sample(N, random_state=SEED)\n",
    "subset_df.to_csv(SUBSET_FILE_NAME, header=None, index=None)"
   ]
  },
  {
   "cell_type": "markdown",
   "metadata": {},
   "source": [
    "### Creating the Dataset\n",
    "First, declare the text and label fields. By setting `include_lengths=True`, we will include a tensor containing the lengths of each sequence. "
   ]
  },
  {
   "cell_type": "code",
   "execution_count": 13,
   "metadata": {},
   "outputs": [],
   "source": [
    "\n",
    "TEXT = data.Field(tokenize='spacy', lower=True, include_lengths= True)\n",
    "LABEL = data.LabelField(dtype=torch.float)\n",
    "\n",
    "fields = [\n",
    "    ('label', LABEL), \n",
    "    ('id',None),\n",
    "    ('date',None),\n",
    "    ('query',None),\n",
    "    ('name',None), \n",
    "    ('text', TEXT),\n",
    "    ('category',None)\n",
    "]\n",
    "\n",
    "dataset = data.TabularDataset(\n",
    "    path=SUBSET_FILE_NAME,\n",
    "    format=\"CSV\",\n",
    "    fields=fields,\n",
    "    skip_header=False\n",
    ")\n"
   ]
  },
  {
   "cell_type": "code",
   "execution_count": 16,
   "metadata": {},
   "outputs": [
    {
     "name": "stdout",
     "output_type": "stream",
     "text": [
      "Train dataset size: 56000\n",
      "Test dataset size: 12000\n",
      "Validation dataset size: 12000\n"
     ]
    }
   ],
   "source": [
    "# Split into train, test, validation sets\n",
    "train_dataset, test_dataset, validation_dataset = dataset.split(split_ratio=SPLIT_RATIO)\n",
    "\n",
    "print(f\"Train dataset size: {len(train_dataset)}\")\n",
    "print(f\"Test dataset size: {len(test_dataset)}\")\n",
    "print(f\"Validation dataset size: {len(validation_dataset)}\")"
   ]
  },
  {
   "cell_type": "markdown",
   "metadata": {},
   "source": [
    "### Building the Vocab\n",
    "The vocab will be built using pre-train [GloVe](https://nlp.stanford.edu/projects/glove/) embeddings. It is also important to note that the vocab should only be built using the test dataset. The `unk_init` parameter specifies the initialization method for the vectors of out-of-vocabulary (OOV) tokens. It will be set to use a normal distribution for the initialization of OOV token vectors."
   ]
  },
  {
   "cell_type": "code",
   "execution_count": 21,
   "metadata": {},
   "outputs": [
    {
     "name": "stderr",
     "output_type": "stream",
     "text": [
      ".vector_cache\\glove.6B.zip: 862MB [04:19, 3.32MB/s]                                                                    \n",
      "100%|██████████████████████████████████████████████████████████████████████▉| 399999/400000 [00:19<00:00, 20102.99it/s]\n"
     ]
    }
   ],
   "source": [
    "TEXT.build_vocab(\n",
    "    train_dataset, \n",
    "    max_size = MAX_VOCAB_SIZE,\n",
    "    vectors = GLOVE_VECTORS,\n",
    "    unk_init = torch.Tensor.normal_\n",
    ")\n",
    "\n",
    "LABEL.build_vocab(train_dataset)"
   ]
  },
  {
   "cell_type": "markdown",
   "metadata": {},
   "source": [
    "#### Most Frequent Tokens in the Corpus"
   ]
  },
  {
   "cell_type": "code",
   "execution_count": 30,
   "metadata": {},
   "outputs": [
    {
     "data": {
      "text/plain": [
       "Text(0.5, 1.0, 'Top 10 Most Frequent Tokens')"
      ]
     },
     "execution_count": 30,
     "metadata": {},
     "output_type": "execute_result"
    },
    {
     "data": {
      "image/png": "[encoded data removed]",
      "text/plain": [
       "<Figure size 640x480 with 1 Axes>"
      ]
     },
     "metadata": {},
     "output_type": "display_data"
    }
   ],
   "source": [
    "words, frequencies = zip(*TEXT.vocab.freqs.most_common(10))\n",
    "\n",
    "plt.bar(words, frequencies)\n",
    "plt.xlabel('Token')\n",
    "plt.ylabel('Frequency')\n",
    "plt.title('Top 10 Most Frequent Tokens')"
   ]
  },
  {
   "cell_type": "markdown",
   "metadata": {},
   "source": [
    "### Bucket Iterators\n",
    "Text sequences will be grouped in batches based on similar lengths. Text sequences in a batch will all have the same length by applying padding. By batching sequences of similar lengths, minimal padding will be applied in each batch"
   ]
  },
  {
   "cell_type": "code",
   "execution_count": 32,
   "metadata": {},
   "outputs": [],
   "source": [
    "train_iterator, validation_iterator, test_iterator = data.BucketIterator.splits(\n",
    "    (train_dataset, validation_dataset, test_dataset),\n",
    "    device = device,\n",
    "    batch_size = BATCH_SIZE,\n",
    "    sort_key = lambda sample: len(sample.text),\n",
    "    sort_within_batch = True\n",
    ")"
   ]
  },
  {
   "cell_type": "markdown",
   "metadata": {},
   "source": [
    "## RNN Model"
   ]
  },
  {
   "cell_type": "code",
   "execution_count": 167,
   "metadata": {},
   "outputs": [],
   "source": [
    "import RNN\n",
    "import importlib\n",
    "importlib.reload(RNN)\n",
    "\n",
    "padding_idx = padding_idx=TEXT.vocab.stoi[TEXT.pad_token]\n",
    "unknown_idx = padding_idx=TEXT.vocab.stoi[TEXT.unk_token]\n",
    "\n",
    "model = RNN.Classifier(\n",
    "    input_dim=len(TEXT.vocab),\n",
    "    embedding_dim=GLOVE_DIM,\n",
    "    hidden_dim=256,\n",
    "    output_dim=1,\n",
    "    rnn_layers=2,\n",
    "    bidirectional=True,\n",
    "    dropout_probability=0.5,\n",
    "    padding_idx=padding_idx\n",
    ")"
   ]
  },
  {
   "cell_type": "markdown",
   "metadata": {},
   "source": [
    "Copy the pre-trained word embedding into the embedding layer."
   ]
  },
  {
   "cell_type": "code",
   "execution_count": 168,
   "metadata": {},
   "outputs": [
    {
     "data": {
      "text/plain": [
       "tensor([[ 1.1175,  0.1856,  1.0187,  ...,  0.2177,  1.0863, -1.0671],\n",
       "        [-0.3280, -0.0294,  1.1822,  ...,  0.2845, -2.4748,  1.7831],\n",
       "        [-0.0465,  0.6197,  0.5665,  ..., -0.3762, -0.0325,  0.8062],\n",
       "        ...,\n",
       "        [-0.9633, -0.7510, -1.5297,  ..., -2.0500, -1.3038, -0.4371],\n",
       "        [ 0.1741,  0.6212, -1.2458,  ...,  0.0292,  0.5384, -0.7495],\n",
       "        [ 0.1274, -0.4010, -1.3311,  ..., -0.7559, -0.6181, -3.0765]])"
      ]
     },
     "execution_count": 168,
     "metadata": {},
     "output_type": "execute_result"
    }
   ],
   "source": [
    "pretrained_embeddings = TEXT.vocab.vectors\n",
    "model.embedding.weight.data.copy_(pretrained_embeddings)"
   ]
  },
  {
   "cell_type": "markdown",
   "metadata": {},
   "source": [
    "Set the `<unk>` and `<pad>` tokens to have zero weights as they do not benefit the task."
   ]
  },
  {
   "cell_type": "code",
   "execution_count": 169,
   "metadata": {},
   "outputs": [],
   "source": [
    "model.embedding.weight.data[padding_idx] = torch.zeros(GLOVE_DIM)\n",
    "model.embedding.weight.data[unknown_idx] = torch.zeros(GLOVE_DIM)"
   ]
  },
  {
   "cell_type": "code",
   "execution_count": 170,
   "metadata": {},
   "outputs": [],
   "source": [
    "optimizer = optim.Adam(model.parameters(), lr=2e-2)\n",
    "criterion = nn.BCEWithLogitsLoss()\n",
    "\n",
    "model = model.to(device)\n",
    "criterion = criterion.to(device)"
   ]
  },
  {
   "cell_type": "code",
   "execution_count": 171,
   "metadata": {},
   "outputs": [],
   "source": [
    "def get_accuracy(batch_predictions, batch_labels):\n",
    "\n",
    "    # put predictions into sigmoid [0, 1] and round to integer\n",
    "    batch_predictions = torch.round(torch.sigmoid(batch_predictions))\n",
    "    matches = (batch_predictions == batch_labels).float()\n",
    "    return matches.sum() / len(matches)"
   ]
  },
  {
   "cell_type": "markdown",
   "metadata": {},
   "source": [
    "### Train and Validation Loops"
   ]
  },
  {
   "cell_type": "code",
   "execution_count": 172,
   "metadata": {},
   "outputs": [],
   "source": [
    "def train(model, iterator, optimizer, criterion):\n",
    "    total_loss = 0.0\n",
    "    total_accuracy = 0.0\n",
    "    model.train()\n",
    "    for batch in iterator:\n",
    "        optimizer.zero_grad()\n",
    "        sequences, true_lengths = batch.text\n",
    "        predictions = model(sequences, true_lengths).squeeze(1)\n",
    "        loss = criterion(predictions, batch.label)\n",
    "        accuracy = get_accuracy(predictions, batch.label)\n",
    "        loss.backward()\n",
    "        optimizer.step()\n",
    "        total_loss += loss.item()\n",
    "        total_accuracy += accuracy.item()\n",
    "    return total_loss / len(iterator), total_accuracy / len(iterator)\n",
    "\n",
    "def evaluate(model, iterator, criterion):\n",
    "    total_loss = 0.0\n",
    "    total_accuracy = 0.0\n",
    "    model.eval()\n",
    "    with torch.no_grad():\n",
    "        for batch in iterator:\n",
    "            text, text_lengths = batch.text\n",
    "            predictions = model(text, text_lengths).squeeze(1)\n",
    "            loss = criterion(predictions, batch.label)\n",
    "            accuracy = get_accuracy(predictions, batch.label)\n",
    "            total_loss += loss.item()\n",
    "            total_accuracy += accuracy.item()\n",
    "    return total_loss / len(iterator), total_accuracy / len(iterator)"
   ]
  },
  {
   "cell_type": "code",
   "execution_count": 173,
   "metadata": {},
   "outputs": [],
   "source": [
    "\n",
    "def train_loop(model, train_iterator, optimizer, criterion, epochs):\n",
    "    best_validation_loss = float('inf')\n",
    "    train_accuracies = []\n",
    "    validation_accuraies = []\n",
    "    for epoch in range(epochs):\n",
    "        start_time = time.time()\n",
    "        train_loss, train_accuracy = train(model, train_iterator, optimizer, criterion)\n",
    "        validation_loss, validation_accuracy = evaluate(model, validation_iterator, criterion)\n",
    "        end_time = time.time()\n",
    "\n",
    "        # display metrics\n",
    "        if validation_loss < best_validation_loss:\n",
    "            best_validation_loss = validation_loss\n",
    "            #torch.save(model.state_dict(), 'model.pt')\n",
    "        elapsed = end_time - start_time\n",
    "        print(f\"Epoch {epoch + 1} | Elapsed: {timedelta(seconds=elapsed)}\")\n",
    "        print(f\"Train Loss {train_loss:.2} | Train Accuracy: {train_accuracy:.2%}\")\n",
    "        print(f\"Validation Loss {validation_loss:.2} | Validation Accuracy: {validation_accuracy:.2%}\")\n",
    "        train_accuracies.append(train_accuracy)\n",
    "        validation_accuraies.append(validation_accuracy)\n",
    "    return train_accuracies, validation_accuraies"
   ]
  },
  {
   "cell_type": "code",
   "execution_count": 177,
   "metadata": {},
   "outputs": [],
   "source": [
    "def plot_learning_curves(train_accuracies, validation_accuraies, title):\n",
    "    epochs = list(range(1, len(train_accuracies) + 1))\n",
    "    plt.plot(epochs, train_accuracies, label='Training Accuracy')\n",
    "    plt.plot(epochs, validation_accuraies, label='Validation Accuracy')\n",
    "    plt.xlabel('Epochs')\n",
    "    plt.ylabel('Loss')\n",
    "    plt.title(title)\n",
    "    plt.legend()\n",
    "    plt.show()\n"
   ]
  },
  {
   "cell_type": "code",
   "execution_count": 178,
   "metadata": {},
   "outputs": [
    {
     "name": "stdout",
     "output_type": "stream",
     "text": [
      "Epoch 1 | Elapsed: 0:00:04.501140\n",
      "Train Loss 0.79 | Train Accuracy: 53.73%\n",
      "Validation Loss 1.3 | Validation Accuracy: 51.51%\n",
      "Epoch 2 | Elapsed: 0:00:04.109374\n",
      "Train Loss 0.85 | Train Accuracy: 53.46%\n",
      "Validation Loss 0.69 | Validation Accuracy: 56.42%\n",
      "Epoch 3 | Elapsed: 0:00:04.076988\n",
      "Train Loss 0.83 | Train Accuracy: 53.38%\n",
      "Validation Loss 0.82 | Validation Accuracy: 52.44%\n",
      "Epoch 4 | Elapsed: 0:00:04.076433\n",
      "Train Loss 0.82 | Train Accuracy: 53.40%\n",
      "Validation Loss 0.88 | Validation Accuracy: 53.47%\n",
      "Epoch 5 | Elapsed: 0:00:04.048755\n",
      "Train Loss 0.84 | Train Accuracy: 53.12%\n",
      "Validation Loss 0.97 | Validation Accuracy: 53.26%\n"
     ]
    }
   ],
   "source": [
    "train_accuracies, validation_accuraies = train_loop(model, train_iterator, optimizer, criterion, epochs=5)"
   ]
  },
  {
   "cell_type": "code",
   "execution_count": 179,
   "metadata": {},
   "outputs": [
    {
     "data": {
      "image/png": "[encoded data removed]",
      "text/plain": [
       "<Figure size 640x480 with 1 Axes>"
      ]
     },
     "metadata": {},
     "output_type": "display_data"
    }
   ],
   "source": [
    "plot_learning_curves(train_accuracies, validation_accuraies, \"Simple RNN Model\")"
   ]
  },
  {
   "cell_type": "markdown",
   "metadata": {},
   "source": [
    "## LSTM Model"
   ]
  },
  {
   "cell_type": "code",
   "execution_count": 180,
   "metadata": {},
   "outputs": [],
   "source": [
    "import LSTM\n",
    "import importlib\n",
    "importlib.reload(LSTM)\n",
    "\n",
    "padding_idx = padding_idx=TEXT.vocab.stoi[TEXT.pad_token]\n",
    "unknown_idx = padding_idx=TEXT.vocab.stoi[TEXT.unk_token]\n",
    "\n",
    "model = LSTM.Classifier(\n",
    "    input_dim=len(TEXT.vocab),\n",
    "    embedding_dim=GLOVE_DIM,\n",
    "    hidden_dim=256,\n",
    "    output_dim=1,\n",
    "    lstm_layers=2,\n",
    "    bidirectional=True,\n",
    "    dropout_probability=0.5,\n",
    "    padding_idx=padding_idx\n",
    ")\n",
    "\n",
    "pretrained_embeddings = TEXT.vocab.vectors\n",
    "model.embedding.weight.data.copy_(pretrained_embeddings)\n",
    "\n",
    "model.embedding.weight.data[padding_idx] = torch.zeros(GLOVE_DIM)\n",
    "model.embedding.weight.data[unknown_idx] = torch.zeros(GLOVE_DIM)\n",
    "\n",
    "optimizer = optim.Adam(model.parameters(), lr=2e-2)\n",
    "criterion = nn.BCEWithLogitsLoss()\n",
    "\n",
    "model = model.to(device)\n",
    "criterion = criterion.to(device)"
   ]
  },
  {
   "cell_type": "code",
   "execution_count": 181,
   "metadata": {},
   "outputs": [
    {
     "name": "stdout",
     "output_type": "stream",
     "text": [
      "Epoch 1 | Elapsed: 0:00:06.980915\n",
      "Train Loss 0.62 | Train Accuracy: 65.72%\n",
      "Validation Loss 0.48 | Validation Accuracy: 77.13%\n",
      "Epoch 2 | Elapsed: 0:00:06.714594\n",
      "Train Loss 0.47 | Train Accuracy: 78.34%\n",
      "Validation Loss 0.47 | Validation Accuracy: 77.93%\n",
      "Epoch 3 | Elapsed: 0:00:06.709352\n",
      "Train Loss 0.49 | Train Accuracy: 77.16%\n",
      "Validation Loss 0.54 | Validation Accuracy: 73.50%\n",
      "Epoch 4 | Elapsed: 0:00:06.642144\n",
      "Train Loss 0.6 | Train Accuracy: 69.30%\n",
      "Validation Loss 0.59 | Validation Accuracy: 69.28%\n",
      "Epoch 5 | Elapsed: 0:00:06.740596\n",
      "Train Loss 0.73 | Train Accuracy: 57.84%\n",
      "Validation Loss 0.67 | Validation Accuracy: 58.83%\n"
     ]
    },
    {
     "data": {
      "text/plain": [
       "([0.657195348173516,\n",
       "  0.7833904109589042,\n",
       "  0.7716003139269406,\n",
       "  0.6929758847031964,\n",
       "  0.5783568778538812],\n",
       " [0.7712765957446809,\n",
       "  0.7792830232610094,\n",
       "  0.7349844860269669,\n",
       "  0.6927914454581889,\n",
       "  0.5883477393617021])"
      ]
     },
     "execution_count": 181,
     "metadata": {},
     "output_type": "execute_result"
    }
   ],
   "source": [
    "train_accuracies, validation_accuraies = train_loop(model, train_iterator, optimizer, criterion, epochs=5)"
   ]
  },
  {
   "cell_type": "code",
   "execution_count": 182,
   "metadata": {},
   "outputs": [
    {
     "data": {
      "image/png": "[encoded data removed]",
      "text/plain": [
       "<Figure size 640x480 with 1 Axes>"
      ]
     },
     "metadata": {},
     "output_type": "display_data"
    }
   ],
   "source": [
    "plot_learning_curves(train_accuracies, validation_accuraies, \"LSTM Model\")"
   ]
  },
  {
   "cell_type": "code",
   "execution_count": null,
   "metadata": {},
   "outputs": [],
   "source": []
  }
 ],
 "metadata": {
  "kernelspec": {
   "display_name": "Python 3 (ipykernel)",
   "language": "python",
   "name": "python3"
  },
  "language_info": {
   "codemirror_mode": {
    "name": "ipython",
    "version": 3
   },
   "file_extension": ".py",
   "mimetype": "text/x-python",
   "name": "python",
   "nbconvert_exporter": "python",
   "pygments_lexer": "ipython3",
   "version": "3.11.6"
  }
 },
 "nbformat": 4,
 "nbformat_minor": 2
}
