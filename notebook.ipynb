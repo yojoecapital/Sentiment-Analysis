{
 "cells": [
  {
   "cell_type": "code",
   "execution_count": 1,
   "metadata": {},
   "outputs": [],
   "source": [
    "import torch\n",
    "from torchtext import data\n",
    "import pandas as pd\n",
    "from torch import nn"
   ]
  },
  {
   "cell_type": "code",
   "execution_count": 2,
   "metadata": {},
   "outputs": [
    {
     "name": "stdout",
     "output_type": "stream",
     "text": [
      "2.0.1+cu118 cuda\n"
     ]
    }
   ],
   "source": [
    "FILE_PATH = \"Sentiment140/training.1600000.processed.noemoticon.csv\"\n",
    "SEED = 20\n",
    "\n",
    "device = torch.device(\"cuda\" if torch.cuda.is_available() else \"cpu\")\n",
    "print(torch.__version__, device)"
   ]
  },
  {
   "cell_type": "markdown",
   "metadata": {},
   "source": [
    "Data was retrieved from [kaggle](https://www.kaggle.com/datasets/kazanova/sentiment140/)."
   ]
  },
  {
   "cell_type": "code",
   "execution_count": 3,
   "metadata": {},
   "outputs": [
    {
     "name": "stdout",
     "output_type": "stream",
     "text": [
      "negative examples: 491\n",
      "positive examples: 509\n"
     ]
    }
   ],
   "source": [
    "df = pd.read_csv(FILE_PATH, header=None, encoding='latin-1')\n",
    "header_names = [\"label\", \"ids\", \"date\", \"flag\", \"user\", \"text\"]\n",
    "df.columns = header_names\n",
    "\n",
    "# the dataset actually only contains labels with 0 and 4\n",
    "# this will be simplified with 0 for negative and 1 for positive\n",
    "df['label'] = df['label'].apply(lambda value: 1 if value != 0 else 0)\n",
    "df = df.sample(frac=1.0, random_state=SEED).head(1000)\n",
    "\n",
    "# check the distributions\n",
    "print(f\"negative examples: {df['label'].eq(0).sum()}\")\n",
    "print(f\"positive examples: {df['label'].eq(1).sum()}\")"
   ]
  },
  {
   "cell_type": "code",
   "execution_count": 4,
   "metadata": {},
   "outputs": [],
   "source": [
    "# data field for text (text is sequential and to lower)\n",
    "TEXT = data.Field(sequential=True, batch_first=True, lower=True, pad_token='<pad>', fix_length=32)\n",
    "\n",
    "# data field for label (label is a float between 0 and 1)\n",
    "LABEL = data.Field(sequential=False, use_vocab=False, dtype=torch.float)\n",
    "\n",
    "# create examples by iterating over DataFrame\n",
    "examples = []\n",
    "for _, row in df.iterrows():\n",
    "    # get text\n",
    "    text = row['text']\n",
    "\n",
    "     # convert to float\n",
    "    label = float(row['label'])\n",
    "    examples.append(data.Example.fromlist([text, label], fields=[('text', TEXT), ('label', LABEL)]))\n",
    "\n",
    "# split into train, validation, and test sets\n",
    "train_data, valid_data, test_data = data.Dataset(examples, fields=[('text', TEXT), ('label', LABEL)]).split(split_ratio=[0.7, 0.15, 0.15])\n",
    "\n",
    "# build the vocab (`min_freq=2` will leave out the words that appear only once)\n",
    "TEXT.build_vocab(train_data, min_freq=2)\n",
    "vocab_size = len(TEXT.vocab)\n",
    "\n",
    "train_iter, val_iter, test_iter = data.BucketIterator.splits(\n",
    "    (train_data, valid_data, test_data),\n",
    "    batch_size=32,\n",
    "    sort_within_batch=True,\n",
    "    sort_key=lambda x: len(x.text),\n",
    "    device='cuda' if torch.cuda.is_available() else 'cpu')\n"
   ]
  },
  {
   "cell_type": "code",
   "execution_count": 5,
   "metadata": {},
   "outputs": [
    {
     "name": "stdout",
     "output_type": "stream",
     "text": [
      "text_vector = [8, 0, 0, 1, 1, 1, 1, 1, 1, 1, 1, 1, 1, 1, 1, 1, 1, 1, 1, 1, 1, 1, 1, 1, 1, 1, 1, 1, 1, 1, 1, 1]\n",
      "text_words = \"is <unk> <unk> <pad> <pad> <pad> <pad> <pad> <pad> <pad> <pad> <pad> <pad> <pad> <pad> <pad> <pad> <pad> <pad> <pad> <pad> <pad> <pad> <pad> <pad> <pad> <pad> <pad> <pad> <pad> <pad> <pad>\"\n",
      "label = 1.0\n"
     ]
    }
   ],
   "source": [
    "# what does the data look like?\n",
    "for batch in train_iter:\n",
    "    text = batch.text\n",
    "    label = batch.label\n",
    "    \n",
    "    # take the first embedding in the batch\n",
    "    text_vector = text.tolist()[0] \n",
    "    \n",
    "    # take the first label in the batch \n",
    "    label_vector = label.tolist()[0]\n",
    "    \n",
    "    # convert embedding back to words\n",
    "    text_words = ' '.join([TEXT.vocab.itos[i] for i in text_vector])\n",
    "    \n",
    "    # print the vectorized text and label for the first example in the batch\n",
    "    print(f\"text_vector = {text_vector}\")\n",
    "    print(f\"text_words = \\\"{text_words}\\\"\")\n",
    "    print(f\"label = {label_vector}\")\n",
    "    break\n"
   ]
  },
  {
   "cell_type": "code",
   "execution_count": 6,
   "metadata": {},
   "outputs": [
    {
     "name": "stdout",
     "output_type": "stream",
     "text": [
      "Epoch 1, Average Loss: 70.58%, Validation Accuracy: 47.33%\n"
     ]
    }
   ],
   "source": [
    "import RNN\n",
    "\n",
    "model = RNN.Classifier(embedding_size=128, hidden_size=128, output_size=1, num_layers=1, vocab_size=vocab_size)\n",
    "\n",
    "# loss and optimizer\n",
    "loss_fn = nn.BCELoss()\n",
    "optimizer = torch.optim.Adam(model.parameters(), lr=0.001)\n",
    "\n",
    "# move to GPU\n",
    "device = 'cuda' if torch.cuda.is_available() else 'cpu'\n",
    "model.to(device)\n",
    "\n",
    "RNN.train(model=model, optimizer=optimizer, loss_fn=loss_fn, train_iter=train_iter, val_iter=val_iter, num_epochs=1)\n"
   ]
  },
  {
   "cell_type": "code",
   "execution_count": 7,
   "metadata": {},
   "outputs": [
    {
     "name": "stdout",
     "output_type": "stream",
     "text": [
      "Epoch 1, Average Loss: 70.04%, Validation Accuracy: 47.33%\n"
     ]
    }
   ],
   "source": [
    "import LSTM\n",
    "\n",
    "model = LSTM.Classifier(embedding_size=128, hidden_size=128, output_size=1, num_layers=1, vocab_size=vocab_size)\n",
    "\n",
    "# loss and optimizer\n",
    "loss_fn = nn.BCELoss()\n",
    "optimizer = torch.optim.Adam(model.parameters(), lr=0.001)\n",
    "\n",
    "# move to GPU\n",
    "device = 'cuda' if torch.cuda.is_available() else 'cpu'\n",
    "model.to(device)\n",
    "\n",
    "LSTM.train(model=model, optimizer=optimizer, loss_fn=loss_fn, train_iter=train_iter, val_iter=val_iter, num_epochs=1)"
   ]
  }
 ],
 "metadata": {
  "kernelspec": {
   "display_name": "base",
   "language": "python",
   "name": "python3"
  },
  "language_info": {
   "codemirror_mode": {
    "name": "ipython",
    "version": 3
   },
   "file_extension": ".py",
   "mimetype": "text/x-python",
   "name": "python",
   "nbconvert_exporter": "python",
   "pygments_lexer": "ipython3",
   "version": "3.8.18"
  }
 },
 "nbformat": 4,
 "nbformat_minor": 2
}
