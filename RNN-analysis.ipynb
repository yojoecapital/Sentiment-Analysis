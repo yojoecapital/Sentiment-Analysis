{
 "cells": [
  {
   "cell_type": "code",
   "execution_count": 1,
   "metadata": {},
   "outputs": [],
   "source": [
    "import torch\n",
    "import pandas as pd\n",
    "import torchtext\n",
    "from torchtext import data\n",
    "import matplotlib.pyplot as plt\n",
    "import torch.optim as optim\n",
    "import torch.nn as nn\n",
    "import helpers\n",
    "import importlib"
   ]
  },
  {
   "cell_type": "markdown",
   "metadata": {},
   "source": [
    "Uncomment the line below to download the spaCy tokenizer if not already done so"
   ]
  },
  {
   "cell_type": "code",
   "execution_count": 2,
   "metadata": {},
   "outputs": [],
   "source": [
    "#!python -m spacy download en"
   ]
  },
  {
   "cell_type": "code",
   "execution_count": 3,
   "metadata": {},
   "outputs": [
    {
     "name": "stdout",
     "output_type": "stream",
     "text": [
      "0.6.0\n",
      "2.1.1+cu118\n",
      "cuda\n"
     ]
    },
    {
     "data": {
      "text/plain": [
       "<torch._C.Generator at 0x1b7ffb7f790>"
      ]
     },
     "execution_count": 3,
     "metadata": {},
     "output_type": "execute_result"
    }
   ],
   "source": [
    "device = torch.device(\"cuda\" if torch.cuda.is_available() else \"cpu\")\n",
    "print(torchtext.__version__)\n",
    "print(torch.__version__)\n",
    "print(device)\n",
    "torch.backends.cudnn.deterministic = True\n",
    "\n",
    "# constants\n",
    "FILE_NAME = \"training.1600000.processed.noemoticon.csv\"\n",
    "SUBSET_FILE_NAME = \"data.csv\"\n",
    "N = 80000\n",
    "SEED = 1\n",
    "SPLIT_RATIO = [0.7, 0.15, 0.15]\n",
    "MAX_VOCAB_SIZE = 30000\n",
    "GLOVE_VECTORS = \"glove.6B.100d\"\n",
    "GLOVE_DIM = 100\n",
    "BATCH_SIZE = 128\n",
    "PT_PATH = \"saves\"\n",
    "EPOCHS=20\n",
    "LR = 1e-3\n",
    "\n",
    "torch.manual_seed(SEED)"
   ]
  },
  {
   "cell_type": "markdown",
   "metadata": {},
   "source": [
    "## Data Preprocessing"
   ]
  },
  {
   "cell_type": "code",
   "execution_count": 4,
   "metadata": {},
   "outputs": [
    {
     "data": {
      "text/html": [
       "<div>\n",
       "<style scoped>\n",
       "    .dataframe tbody tr th:only-of-type {\n",
       "        vertical-align: middle;\n",
       "    }\n",
       "\n",
       "    .dataframe tbody tr th {\n",
       "        vertical-align: top;\n",
       "    }\n",
       "\n",
       "    .dataframe thead th {\n",
       "        text-align: right;\n",
       "    }\n",
       "</style>\n",
       "<table border=\"1\" class=\"dataframe\">\n",
       "  <thead>\n",
       "    <tr style=\"text-align: right;\">\n",
       "      <th></th>\n",
       "      <th>0</th>\n",
       "      <th>1</th>\n",
       "      <th>2</th>\n",
       "      <th>3</th>\n",
       "      <th>4</th>\n",
       "      <th>5</th>\n",
       "    </tr>\n",
       "  </thead>\n",
       "  <tbody>\n",
       "    <tr>\n",
       "      <th>0</th>\n",
       "      <td>0</td>\n",
       "      <td>1467810369</td>\n",
       "      <td>Mon Apr 06 22:19:45 PDT 2009</td>\n",
       "      <td>NO_QUERY</td>\n",
       "      <td>_TheSpecialOne_</td>\n",
       "      <td>@switchfoot http://twitpic.com/2y1zl - Awww, t...</td>\n",
       "    </tr>\n",
       "    <tr>\n",
       "      <th>1</th>\n",
       "      <td>0</td>\n",
       "      <td>1467810672</td>\n",
       "      <td>Mon Apr 06 22:19:49 PDT 2009</td>\n",
       "      <td>NO_QUERY</td>\n",
       "      <td>scotthamilton</td>\n",
       "      <td>is upset that he can't update his Facebook by ...</td>\n",
       "    </tr>\n",
       "    <tr>\n",
       "      <th>2</th>\n",
       "      <td>0</td>\n",
       "      <td>1467810917</td>\n",
       "      <td>Mon Apr 06 22:19:53 PDT 2009</td>\n",
       "      <td>NO_QUERY</td>\n",
       "      <td>mattycus</td>\n",
       "      <td>@Kenichan I dived many times for the ball. Man...</td>\n",
       "    </tr>\n",
       "    <tr>\n",
       "      <th>3</th>\n",
       "      <td>0</td>\n",
       "      <td>1467811184</td>\n",
       "      <td>Mon Apr 06 22:19:57 PDT 2009</td>\n",
       "      <td>NO_QUERY</td>\n",
       "      <td>ElleCTF</td>\n",
       "      <td>my whole body feels itchy and like its on fire</td>\n",
       "    </tr>\n",
       "    <tr>\n",
       "      <th>4</th>\n",
       "      <td>0</td>\n",
       "      <td>1467811193</td>\n",
       "      <td>Mon Apr 06 22:19:57 PDT 2009</td>\n",
       "      <td>NO_QUERY</td>\n",
       "      <td>Karoli</td>\n",
       "      <td>@nationwideclass no, it's not behaving at all....</td>\n",
       "    </tr>\n",
       "  </tbody>\n",
       "</table>\n",
       "</div>"
      ],
      "text/plain": [
       "   0           1                             2         3                4  \\\n",
       "0  0  1467810369  Mon Apr 06 22:19:45 PDT 2009  NO_QUERY  _TheSpecialOne_   \n",
       "1  0  1467810672  Mon Apr 06 22:19:49 PDT 2009  NO_QUERY    scotthamilton   \n",
       "2  0  1467810917  Mon Apr 06 22:19:53 PDT 2009  NO_QUERY         mattycus   \n",
       "3  0  1467811184  Mon Apr 06 22:19:57 PDT 2009  NO_QUERY          ElleCTF   \n",
       "4  0  1467811193  Mon Apr 06 22:19:57 PDT 2009  NO_QUERY           Karoli   \n",
       "\n",
       "                                                   5  \n",
       "0  @switchfoot http://twitpic.com/2y1zl - Awww, t...  \n",
       "1  is upset that he can't update his Facebook by ...  \n",
       "2  @Kenichan I dived many times for the ball. Man...  \n",
       "3    my whole body feels itchy and like its on fire   \n",
       "4  @nationwideclass no, it's not behaving at all....  "
      ]
     },
     "execution_count": 4,
     "metadata": {},
     "output_type": "execute_result"
    }
   ],
   "source": [
    "df = pd.read_csv(FILE_NAME, header=None, engine=\"python\", encoding=\"latin-1\")\n",
    "df.head()"
   ]
  },
  {
   "cell_type": "markdown",
   "metadata": {},
   "source": [
    "According the description from source page on [kaggle](https://www.kaggle.com/datasets/kazanova/sentiment140/data), there are 3 possible labels: \"0 = negative, 2 = neutral, 4 = positive.\" As shown below however, the label has 2 possible values: `0` for negative sentiment and `1` for positive. The target is actually binary simplifying classification task."
   ]
  },
  {
   "cell_type": "code",
   "execution_count": 5,
   "metadata": {},
   "outputs": [
    {
     "name": "stdout",
     "output_type": "stream",
     "text": [
      "0\n",
      "0    800000\n",
      "4    800000\n",
      "Name: count, dtype: int64\n"
     ]
    }
   ],
   "source": [
    "print(df[0].value_counts())\n",
    "\n",
    "# replace the values to 0 and 1\n",
    "df[0] = df[0].replace(to_replace=4, value=1)\n",
    "\n",
    "# sample the dataset and save the file\n",
    "subset_df = df.sample(N, random_state=SEED)\n",
    "subset_df.to_csv(SUBSET_FILE_NAME, header=None, index=None)"
   ]
  },
  {
   "cell_type": "markdown",
   "metadata": {},
   "source": [
    "### Creating the Dataset\n",
    "First, declare the text and label fields. By setting `include_lengths=True`, we will include a tensor containing the lengths of each sequence. "
   ]
  },
  {
   "cell_type": "code",
   "execution_count": 6,
   "metadata": {},
   "outputs": [],
   "source": [
    "TEXT = data.Field(tokenize='spacy', lower=True, include_lengths= True)\n",
    "LABEL = data.LabelField(dtype=torch.float)\n",
    "\n",
    "fields = [\n",
    "    ('label', LABEL), \n",
    "    ('id', None),\n",
    "    ('date', None),\n",
    "    ('query', None),\n",
    "    ('name', None), \n",
    "    ('text', TEXT),\n",
    "    ('category',None)\n",
    "]\n",
    "\n",
    "dataset = data.TabularDataset(\n",
    "    path=SUBSET_FILE_NAME,\n",
    "    format=\"CSV\",\n",
    "    fields=fields,\n",
    "    skip_header=False\n",
    ")\n"
   ]
  },
  {
   "cell_type": "code",
   "execution_count": 7,
   "metadata": {},
   "outputs": [
    {
     "name": "stdout",
     "output_type": "stream",
     "text": [
      "Train dataset size: 56000\n",
      "Test dataset size: 12000\n",
      "Validation dataset size: 12000\n"
     ]
    }
   ],
   "source": [
    "# Split into train, test, validation sets\n",
    "train_dataset, test_dataset, validation_dataset = dataset.split(split_ratio=SPLIT_RATIO)\n",
    "\n",
    "print(f\"Train dataset size: {len(train_dataset)}\")\n",
    "print(f\"Test dataset size: {len(test_dataset)}\")\n",
    "print(f\"Validation dataset size: {len(validation_dataset)}\")"
   ]
  },
  {
   "cell_type": "markdown",
   "metadata": {},
   "source": [
    "### Building the Vocab\n",
    "The vocab will be built using pre-train [GloVe](https://nlp.stanford.edu/projects/glove/) embeddings. It is also important to note that the vocab should only be built using the test dataset. The `unk_init` parameter specifies the initialization method for the vectors of out-of-vocabulary (OOV) tokens. It will be set to use a normal distribution for the initialization of OOV token vectors."
   ]
  },
  {
   "cell_type": "code",
   "execution_count": 8,
   "metadata": {},
   "outputs": [],
   "source": [
    "TEXT.build_vocab(\n",
    "    train_dataset, \n",
    "    max_size = MAX_VOCAB_SIZE,\n",
    "    vectors = GLOVE_VECTORS,\n",
    "    unk_init = torch.Tensor.normal_\n",
    ")\n",
    "\n",
    "LABEL.build_vocab(train_dataset)"
   ]
  },
  {
   "cell_type": "markdown",
   "metadata": {},
   "source": [
    "#### Most Frequent Tokens in the Corpus"
   ]
  },
  {
   "cell_type": "code",
   "execution_count": 9,
   "metadata": {},
   "outputs": [
    {
     "data": {
      "text/plain": [
       "Text(0.5, 1.0, 'Top 10 Most Frequent Tokens')"
      ]
     },
     "execution_count": 9,
     "metadata": {},
     "output_type": "execute_result"
    },
    {
     "data": {
      "image/png": "[encoded data removed]",
      "text/plain": [
       "<Figure size 640x480 with 1 Axes>"
      ]
     },
     "metadata": {},
     "output_type": "display_data"
    }
   ],
   "source": [
    "words, frequencies = zip(*TEXT.vocab.freqs.most_common(10))\n",
    "\n",
    "plt.bar(words, frequencies)\n",
    "plt.xlabel('Token')\n",
    "plt.ylabel('Frequency')\n",
    "plt.title('Top 10 Most Frequent Tokens')"
   ]
  },
  {
   "cell_type": "markdown",
   "metadata": {},
   "source": [
    "### Bucket Iterators\n",
    "Text sequences will be grouped in batches based on similar lengths. Text sequences in a batch will all have the same length by applying padding. By batching sequences of similar lengths, minimal padding will be applied in each batch"
   ]
  },
  {
   "cell_type": "code",
   "execution_count": 10,
   "metadata": {},
   "outputs": [],
   "source": [
    "train_iterator, validation_iterator, test_iterator = data.BucketIterator.splits(\n",
    "    (train_dataset, validation_dataset, test_dataset),\n",
    "    device = device,\n",
    "    batch_size = BATCH_SIZE,\n",
    "    sort_key = lambda sample: len(sample.text),\n",
    "    sort_within_batch = True\n",
    ")"
   ]
  },
  {
   "cell_type": "markdown",
   "metadata": {},
   "source": [
    "### What does our data look like?\n",
    "Note that each batch will have sequences of the same length but different batches have differing sequence lengths."
   ]
  },
  {
   "cell_type": "code",
   "execution_count": 11,
   "metadata": {},
   "outputs": [
    {
     "name": "stdout",
     "output_type": "stream",
     "text": [
      "Length tensor shape: torch.Size([128])\n",
      "Text tensor shape: torch.Size([11, 128])\n",
      "Labels tensor shape: torch.Size([128])\n",
      "Text words: ['@wolfgang', '<unk>', '<unk>', 'man', '@pinkstwitfans', 'gone', 'the', '@ddlovato', 'ca', '<unk>', 'where', 'the', 'finally', 'i', '<unk>', '@anothera', '@', '@akbaramaru', 'just', '<unk>', 'a', 'hulu', 'great', '<unk>', '<unk>', 'babysitting', '@jeanneeee', 'welcome', '<unk>', '<unk>', 'going', '@debaucheddiva', 'done', 'go', 'i', 'i', 'just', 'slow', 'dinner', '<unk>', 'this', '@adrian_arevalo', '<unk>', 'road', '@sanaraset', 'i', '#', 'just', '@xsavedgex', '@dor33n', 'sore', '@reikifurbabies', 'science', '@dwears', '<unk>', '@jmibaby', 'omg', '<unk>', \"'\", '@katiberz', '<unk>', 'stuck', 'sick', 'non', 'i', '@iamthematrix', '@brentspiner', '<unk>', '@erincreed', 'am', '<unk>', 'crazy', '<unk>', 'i', '@dbhata', 'making', 'one', '<unk>', '<unk>', 'diet', '@fallenfrommars', '@illingsworth', '@katyand', 'missing', 'thanks', '@dlemoncomedy', '<unk>', '<unk>', '@kellibren', 'going', 'to', 'is', 'is', 'unexpected', '<unk>', 'oh', 'have', '<unk>', 'hmmm', '@frankiethesats', '<unk>', 'the', '@chadlemke', 'completed', 'i', ' ', '@abigailamykaren', 'on', '<unk>', 'so', '@nileyxlove', '<unk>', '<unk>', 'helping', '@kayyt', 'nevermind', '<unk>', 'vote', '@itchynox', '@darcysport', 'getting', '<unk>', 'reallyy', '@andy_mythic', 'my', 'so', 'i', '<unk>']\n",
      "Labels: tensor([1., 0., 0., 1., 0., 0., 0., 1., 0., 0., 1., 0., 0., 1., 0., 1., 0., 0.,\n",
      "        0., 1., 0., 0., 0., 1., 0., 0., 0., 0., 0., 0., 0., 0., 1., 0., 1., 0.,\n",
      "        0., 1., 0., 0., 0., 1., 0., 0., 0., 1., 0., 0., 1., 0., 1., 0., 1., 1.,\n",
      "        0., 0., 1., 0., 0., 1., 1., 1., 1., 1., 1., 0., 0., 0., 0., 0., 0., 0.,\n",
      "        1., 1., 1., 1., 1., 1., 1., 0., 1., 0., 1., 1., 0., 1., 0., 0., 0., 0.,\n",
      "        0., 1., 0., 1., 0., 1., 1., 1., 1., 0., 0., 0., 1., 0., 1., 1., 0., 1.,\n",
      "        1., 1., 0., 1., 1., 1., 0., 0., 1., 0., 0., 0., 0., 0., 1., 1., 1., 1.,\n",
      "        1., 0.], device='cuda:0')\n"
     ]
    }
   ],
   "source": [
    "for batch in train_iterator:\n",
    "    (sequences, sequence_lengths), labels = batch.text, batch.label\n",
    "    print(\"Length tensor shape:\", sequence_lengths.shape)\n",
    "    print(\"Text tensor shape:\", sequences.shape)\n",
    "    print(\"Labels tensor shape:\", labels.shape)\n",
    "    text_words = [train_iterator.dataset.fields['text'].vocab.itos[idx] for idx in sequences[0].tolist()]\n",
    "    print(\"Text words:\", text_words)\n",
    "    print(\"Labels:\", labels)\n",
    "    break"
   ]
  },
  {
   "cell_type": "markdown",
   "metadata": {},
   "source": [
    "## RNN Model"
   ]
  },
  {
   "cell_type": "code",
   "execution_count": 12,
   "metadata": {},
   "outputs": [],
   "source": [
    "import RNN\n",
    "importlib.reload(RNN)\n",
    "\n",
    "padding_idx = padding_idx=TEXT.vocab.stoi[TEXT.pad_token]\n",
    "unknown_idx = padding_idx=TEXT.vocab.stoi[TEXT.unk_token]\n",
    "\n",
    "model = RNN.Classifier(\n",
    "    input_dim=len(TEXT.vocab),\n",
    "    embedding_dim=GLOVE_DIM,\n",
    "    hidden_dim=256,\n",
    "    output_dim=1,\n",
    "    rnn_layers=2,\n",
    "    bidirectional=True,\n",
    "    dropout_probability=0.5,\n",
    "    padding_idx=padding_idx,\n",
    "    name=\"RNN_model\"\n",
    ")"
   ]
  },
  {
   "cell_type": "markdown",
   "metadata": {},
   "source": [
    "Copy the pre-trained word embedding into the embedding layer."
   ]
  },
  {
   "cell_type": "code",
   "execution_count": 13,
   "metadata": {},
   "outputs": [
    {
     "data": {
      "text/plain": [
       "tensor([[-1.5256, -0.7502, -0.6540,  ...,  0.3434, -1.0703, -0.8743],\n",
       "        [ 0.2053,  0.3051,  0.5357,  ..., -0.4203,  0.2828,  0.3642],\n",
       "        [-0.0465,  0.6197,  0.5665,  ..., -0.3762, -0.0325,  0.8062],\n",
       "        ...,\n",
       "        [ 0.6114, -2.6009, -1.2161,  ..., -0.1871,  0.2711,  0.7207],\n",
       "        [ 0.2286,  0.8906, -0.8506,  ...,  0.9659, -0.8778,  0.7872],\n",
       "        [ 0.1070,  0.5485, -0.7177,  ...,  0.9331,  0.7424,  0.6534]])"
      ]
     },
     "execution_count": 13,
     "metadata": {},
     "output_type": "execute_result"
    }
   ],
   "source": [
    "pretrained_embeddings = TEXT.vocab.vectors\n",
    "model.embedding.weight.data.copy_(pretrained_embeddings)"
   ]
  },
  {
   "cell_type": "markdown",
   "metadata": {},
   "source": [
    "Set the `<unk>` and `<pad>` tokens to have zero weights as they do not benefit the task."
   ]
  },
  {
   "cell_type": "code",
   "execution_count": 14,
   "metadata": {},
   "outputs": [],
   "source": [
    "model.embedding.weight.data[padding_idx] = torch.zeros(GLOVE_DIM)\n",
    "model.embedding.weight.data[unknown_idx] = torch.zeros(GLOVE_DIM)"
   ]
  },
  {
   "cell_type": "code",
   "execution_count": 15,
   "metadata": {},
   "outputs": [],
   "source": [
    "optimizer = optim.Adam(model.parameters(), lr=LR)\n",
    "criterion = nn.BCEWithLogitsLoss()\n",
    "\n",
    "model = model.to(device)\n",
    "criterion = criterion.to(device)"
   ]
  },
  {
   "cell_type": "markdown",
   "metadata": {},
   "source": [
    "### Train and Validation Loops"
   ]
  },
  {
   "cell_type": "code",
   "execution_count": 16,
   "metadata": {},
   "outputs": [],
   "source": [
    "def train(model, iterator, optimizer, criterion):\n",
    "    total_loss = 0.0\n",
    "    total_accuracy = 0.0\n",
    "    model.train()\n",
    "    for batch in iterator:\n",
    "        optimizer.zero_grad()\n",
    "        sequences, true_lengths = batch.text\n",
    "        predictions = model(sequences, true_lengths).squeeze(1)\n",
    "        loss = criterion(predictions, batch.label)\n",
    "        accuracy = helpers.get_accuracy(predictions, batch.label)\n",
    "        loss.backward()\n",
    "        torch.nn.utils.clip_grad_norm_(model.parameters(), max_norm=1)\n",
    "        optimizer.step()\n",
    "        total_loss += loss.item()\n",
    "        total_accuracy += accuracy.item()\n",
    "    return total_loss / len(iterator), total_accuracy / len(iterator)\n",
    "\n",
    "def evaluate(model, iterator, criterion):\n",
    "    total_loss = 0.0\n",
    "    total_accuracy = 0.0\n",
    "    model.eval()\n",
    "    with torch.no_grad():\n",
    "        for batch in iterator:\n",
    "            text, text_lengths = batch.text\n",
    "            predictions = model(text, text_lengths).squeeze(1)\n",
    "            loss = criterion(predictions, batch.label)\n",
    "            accuracy = helpers.get_accuracy(predictions, batch.label)\n",
    "            total_loss += loss.item()\n",
    "            total_accuracy += accuracy.item()\n",
    "    return total_loss / len(iterator), total_accuracy / len(iterator)"
   ]
  },
  {
   "cell_type": "code",
   "execution_count": 17,
   "metadata": {},
   "outputs": [
    {
     "name": "stdout",
     "output_type": "stream",
     "text": [
      "Epoch 1 | Elapsed: 0:00:04.623356\n",
      "Train Loss 0.62 | Train Accuracy: 65.41%\n",
      "Validation Loss 0.54 | Validation Accuracy: 72.77%\n",
      "\n",
      "Epoch 2 | Elapsed: 0:00:04.313904\n",
      "Train Loss 0.55 | Train Accuracy: 72.50%\n",
      "Validation Loss 0.55 | Validation Accuracy: 75.18%\n",
      "\n",
      "Epoch 3 | Elapsed: 0:00:04.232009\n",
      "Train Loss 0.52 | Train Accuracy: 74.73%\n",
      "Validation Loss 0.5 | Validation Accuracy: 75.97%\n",
      "\n",
      "Epoch 4 | Elapsed: 0:00:04.240434\n",
      "Train Loss 0.49 | Train Accuracy: 77.09%\n",
      "Validation Loss 0.48 | Validation Accuracy: 77.20%\n",
      "\n",
      "Epoch 5 | Elapsed: 0:00:04.228546\n",
      "Train Loss 0.47 | Train Accuracy: 78.12%\n",
      "Validation Loss 0.48 | Validation Accuracy: 77.26%\n",
      "\n",
      "Epoch 6 | Elapsed: 0:00:04.255216\n",
      "Train Loss 0.45 | Train Accuracy: 79.42%\n",
      "Validation Loss 0.47 | Validation Accuracy: 77.77%\n",
      "\n",
      "Epoch 7 | Elapsed: 0:00:04.232427\n",
      "Train Loss 0.44 | Train Accuracy: 79.79%\n",
      "Validation Loss 0.49 | Validation Accuracy: 77.15%\n",
      "\n",
      "Epoch 8 | Elapsed: 0:00:04.279447\n",
      "Train Loss 0.43 | Train Accuracy: 80.60%\n",
      "Validation Loss 0.49 | Validation Accuracy: 77.76%\n",
      "\n",
      "Epoch 9 | Elapsed: 0:00:04.266013\n",
      "Train Loss 0.42 | Train Accuracy: 81.45%\n",
      "Validation Loss 0.46 | Validation Accuracy: 78.62%\n",
      "\n",
      "Epoch 10 | Elapsed: 0:00:04.267633\n",
      "Train Loss 0.41 | Train Accuracy: 81.87%\n",
      "Validation Loss 0.47 | Validation Accuracy: 78.49%\n",
      "\n",
      "Epoch 11 | Elapsed: 0:00:04.241383\n",
      "Train Loss 0.39 | Train Accuracy: 82.78%\n",
      "Validation Loss 0.46 | Validation Accuracy: 78.92%\n",
      "\n",
      "Epoch 12 | Elapsed: 0:00:04.252082\n",
      "Train Loss 0.38 | Train Accuracy: 83.50%\n",
      "Validation Loss 0.49 | Validation Accuracy: 78.72%\n",
      "\n",
      "Epoch 13 | Elapsed: 0:00:04.281549\n",
      "Train Loss 0.38 | Train Accuracy: 83.68%\n",
      "Validation Loss 0.49 | Validation Accuracy: 78.64%\n",
      "\n",
      "Epoch 14 | Elapsed: 0:00:04.268117\n",
      "Train Loss 0.37 | Train Accuracy: 84.04%\n",
      "Validation Loss 0.5 | Validation Accuracy: 78.56%\n",
      "\n",
      "Epoch 15 | Elapsed: 0:00:04.269328\n",
      "Train Loss 0.36 | Train Accuracy: 84.43%\n",
      "Validation Loss 0.48 | Validation Accuracy: 77.61%\n",
      "\n",
      "Epoch 16 | Elapsed: 0:00:04.213859\n",
      "Train Loss 0.36 | Train Accuracy: 84.93%\n",
      "Validation Loss 0.47 | Validation Accuracy: 78.80%\n",
      "\n",
      "Epoch 17 | Elapsed: 0:00:04.286533\n",
      "Train Loss 0.35 | Train Accuracy: 85.20%\n",
      "Validation Loss 0.48 | Validation Accuracy: 78.44%\n",
      "\n",
      "Epoch 18 | Elapsed: 0:00:04.257166\n",
      "Train Loss 0.34 | Train Accuracy: 85.69%\n",
      "Validation Loss 0.48 | Validation Accuracy: 78.35%\n",
      "\n",
      "Epoch 19 | Elapsed: 0:00:04.246683\n",
      "Train Loss 0.34 | Train Accuracy: 85.68%\n",
      "Validation Loss 0.49 | Validation Accuracy: 78.40%\n",
      "\n",
      "Epoch 20 | Elapsed: 0:00:04.269308\n",
      "Train Loss 0.33 | Train Accuracy: 85.90%\n",
      "Validation Loss 0.5 | Validation Accuracy: 78.44%\n",
      "\n"
     ]
    }
   ],
   "source": [
    "train_accuracies, validation_accuraies = helpers.train_loop(\n",
    "    train_fn=train,\n",
    "    evaluate_fn=evaluate,\n",
    "    model=model,\n",
    "    train_iterator=train_iterator,\n",
    "    validation_iterator=validation_iterator,\n",
    "    optimizer=optimizer,\n",
    "    criterion=criterion,\n",
    "    epochs=EPOCHS,\n",
    "    check_point_path=PT_PATH\n",
    ")"
   ]
  },
  {
   "cell_type": "code",
   "execution_count": 18,
   "metadata": {},
   "outputs": [
    {
     "data": {
      "image/png": "[encoded data removed]",
      "text/plain": [
       "<Figure size 640x480 with 1 Axes>"
      ]
     },
     "metadata": {},
     "output_type": "display_data"
    }
   ],
   "source": [
    "helpers.plot_learning_curves(train_accuracies, validation_accuraies, model.name)"
   ]
  },
  {
   "cell_type": "markdown",
   "metadata": {},
   "source": [
    "## LSTM Model"
   ]
  },
  {
   "cell_type": "code",
   "execution_count": 19,
   "metadata": {},
   "outputs": [],
   "source": [
    "import LSTM\n",
    "importlib.reload(LSTM)\n",
    "\n",
    "padding_idx = padding_idx=TEXT.vocab.stoi[TEXT.pad_token]\n",
    "unknown_idx = padding_idx=TEXT.vocab.stoi[TEXT.unk_token]\n",
    "\n",
    "model2 = LSTM.Classifier(\n",
    "    input_dim=len(TEXT.vocab),\n",
    "    embedding_dim=GLOVE_DIM,\n",
    "    hidden_dim=256,\n",
    "    output_dim=1,\n",
    "    lstm_layers=2,\n",
    "    bidirectional=True,\n",
    "    dropout_probability=0.5,\n",
    "    padding_idx=padding_idx,\n",
    "    name=\"LSTM_model\"\n",
    ")\n",
    "\n",
    "pretrained_embeddings = TEXT.vocab.vectors\n",
    "model2.embedding.weight.data.copy_(pretrained_embeddings)\n",
    "\n",
    "model2.embedding.weight.data[padding_idx] = torch.zeros(GLOVE_DIM)\n",
    "model2.embedding.weight.data[unknown_idx] = torch.zeros(GLOVE_DIM)\n",
    "\n",
    "optimizer = optim.Adam(model2.parameters(), lr=LR)\n",
    "criterion = nn.BCEWithLogitsLoss()\n",
    "\n",
    "model2 = model2.to(device)\n",
    "criterion = criterion.to(device)"
   ]
  },
  {
   "cell_type": "code",
   "execution_count": 20,
   "metadata": {},
   "outputs": [
    {
     "name": "stdout",
     "output_type": "stream",
     "text": [
      "Epoch 1 | Elapsed: 0:00:06.889769\n",
      "Train Loss 0.57 | Train Accuracy: 69.56%\n",
      "Validation Loss 0.48 | Validation Accuracy: 76.57%\n",
      "\n",
      "Epoch 2 | Elapsed: 0:00:06.820792\n",
      "Train Loss 0.48 | Train Accuracy: 77.34%\n",
      "Validation Loss 0.44 | Validation Accuracy: 79.06%\n",
      "\n",
      "Epoch 3 | Elapsed: 0:00:06.855673\n",
      "Train Loss 0.44 | Train Accuracy: 79.67%\n",
      "Validation Loss 0.43 | Validation Accuracy: 80.37%\n",
      "\n",
      "Epoch 4 | Elapsed: 0:00:06.843733\n",
      "Train Loss 0.41 | Train Accuracy: 81.47%\n",
      "Validation Loss 0.42 | Validation Accuracy: 80.86%\n",
      "\n",
      "Epoch 5 | Elapsed: 0:00:06.802847\n",
      "Train Loss 0.39 | Train Accuracy: 82.76%\n",
      "Validation Loss 0.42 | Validation Accuracy: 81.03%\n",
      "\n",
      "Epoch 6 | Elapsed: 0:00:06.789232\n",
      "Train Loss 0.36 | Train Accuracy: 84.03%\n",
      "Validation Loss 0.42 | Validation Accuracy: 81.05%\n",
      "\n",
      "Epoch 7 | Elapsed: 0:00:06.763078\n",
      "Train Loss 0.34 | Train Accuracy: 85.10%\n",
      "Validation Loss 0.43 | Validation Accuracy: 81.32%\n",
      "\n",
      "Epoch 8 | Elapsed: 0:00:06.802701\n",
      "Train Loss 0.32 | Train Accuracy: 86.26%\n",
      "Validation Loss 0.44 | Validation Accuracy: 80.84%\n",
      "\n",
      "Epoch 9 | Elapsed: 0:00:06.969829\n",
      "Train Loss 0.31 | Train Accuracy: 86.82%\n",
      "Validation Loss 0.42 | Validation Accuracy: 80.72%\n",
      "\n",
      "Epoch 10 | Elapsed: 0:00:07.316066\n",
      "Train Loss 0.29 | Train Accuracy: 87.67%\n",
      "Validation Loss 0.45 | Validation Accuracy: 81.23%\n",
      "\n",
      "Epoch 11 | Elapsed: 0:00:07.150637\n",
      "Train Loss 0.28 | Train Accuracy: 88.32%\n",
      "Validation Loss 0.45 | Validation Accuracy: 81.15%\n",
      "\n",
      "Epoch 12 | Elapsed: 0:00:07.124297\n",
      "Train Loss 0.26 | Train Accuracy: 89.10%\n",
      "Validation Loss 0.48 | Validation Accuracy: 81.07%\n",
      "\n",
      "Epoch 13 | Elapsed: 0:00:07.046167\n",
      "Train Loss 0.25 | Train Accuracy: 89.78%\n",
      "Validation Loss 0.5 | Validation Accuracy: 80.84%\n",
      "\n",
      "Epoch 14 | Elapsed: 0:00:07.064293\n",
      "Train Loss 0.24 | Train Accuracy: 90.23%\n",
      "Validation Loss 0.52 | Validation Accuracy: 80.78%\n",
      "\n",
      "Epoch 15 | Elapsed: 0:00:06.959836\n",
      "Train Loss 0.22 | Train Accuracy: 90.91%\n",
      "Validation Loss 0.49 | Validation Accuracy: 80.96%\n",
      "\n",
      "Epoch 16 | Elapsed: 0:00:07.056047\n",
      "Train Loss 0.21 | Train Accuracy: 91.46%\n",
      "Validation Loss 0.53 | Validation Accuracy: 80.74%\n",
      "\n",
      "Epoch 17 | Elapsed: 0:00:07.229718\n",
      "Train Loss 0.2 | Train Accuracy: 91.87%\n",
      "Validation Loss 0.54 | Validation Accuracy: 80.68%\n",
      "\n",
      "Epoch 18 | Elapsed: 0:00:07.012029\n",
      "Train Loss 0.19 | Train Accuracy: 92.54%\n",
      "Validation Loss 0.55 | Validation Accuracy: 80.42%\n",
      "\n",
      "Epoch 19 | Elapsed: 0:00:06.949647\n",
      "Train Loss 0.18 | Train Accuracy: 92.84%\n",
      "Validation Loss 0.56 | Validation Accuracy: 80.12%\n",
      "\n",
      "Epoch 20 | Elapsed: 0:00:06.946790\n",
      "Train Loss 0.17 | Train Accuracy: 93.03%\n",
      "Validation Loss 0.59 | Validation Accuracy: 80.40%\n",
      "\n"
     ]
    }
   ],
   "source": [
    "train_accuracies, validation_accuraies = helpers.train_loop(\n",
    "    train_fn=train,\n",
    "    evaluate_fn=evaluate,\n",
    "    model=model2,\n",
    "    train_iterator=train_iterator,\n",
    "    validation_iterator=validation_iterator,\n",
    "    optimizer=optimizer,\n",
    "    criterion=criterion,\n",
    "    epochs=EPOCHS,\n",
    "    check_point_path=PT_PATH\n",
    ")"
   ]
  },
  {
   "cell_type": "code",
   "execution_count": 21,
   "metadata": {},
   "outputs": [
    {
     "data": {
      "image/png": "[encoded data removed]",
      "text/plain": [
       "<Figure size 640x480 with 1 Axes>"
      ]
     },
     "metadata": {},
     "output_type": "display_data"
    }
   ],
   "source": [
    "helpers.plot_learning_curves(train_accuracies, validation_accuraies, model2.name)"
   ]
  },
  {
   "cell_type": "markdown",
   "metadata": {},
   "source": [
    "# Compare the models"
   ]
  },
  {
   "cell_type": "code",
   "execution_count": 22,
   "metadata": {},
   "outputs": [
    {
     "name": "stdout",
     "output_type": "stream",
     "text": [
      "Model RNN_model test accuracy: 0.7887577573035626\n",
      "Model LSTM_model test accuracy: 0.8051307626227115\n"
     ]
    }
   ],
   "source": [
    "a, b = helpers.compare_best(PT_PATH, model, model2, evaluate, test_iterator, criterion)\n",
    "print(f\"Model {model.name} test accuracy: {a}\")\n",
    "print(f\"Model {model2.name} test accuracy: {b}\")"
   ]
  }
 ],
 "metadata": {
  "kernelspec": {
   "display_name": "Python 3 (ipykernel)",
   "language": "python",
   "name": "python3"
  },
  "language_info": {
   "codemirror_mode": {
    "name": "ipython",
    "version": 3
   },
   "file_extension": ".py",
   "mimetype": "text/x-python",
   "name": "python",
   "nbconvert_exporter": "python",
   "pygments_lexer": "ipython3",
   "version": "3.11.6"
  }
 },
 "nbformat": 4,
 "nbformat_minor": 2
}
