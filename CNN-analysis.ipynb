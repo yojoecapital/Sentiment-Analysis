{
 "cells": [
  {
   "cell_type": "code",
   "execution_count": 101,
   "metadata": {},
   "outputs": [
    {
     "data": {
      "text/plain": [
       "<module 'helpers' from 'c:\\\\Users\\\\Yousef\\\\source\\\\repos\\\\Sentiment-Analysis\\\\helpers.py'>"
      ]
     },
     "execution_count": 101,
     "metadata": {},
     "output_type": "execute_result"
    }
   ],
   "source": [
    "import torch\n",
    "import pandas as pd\n",
    "import torchtext\n",
    "from torchtext import data\n",
    "import matplotlib.pyplot as plt\n",
    "import torch.optim as optim\n",
    "import torch.nn as nn\n",
    "import helpers\n",
    "import importlib\n",
    "importlib.reload(helpers)"
   ]
  },
  {
   "cell_type": "markdown",
   "metadata": {},
   "source": [
    "Uncomment the line below to download the spaCy tokenizer if not already done so"
   ]
  },
  {
   "cell_type": "code",
   "execution_count": 85,
   "metadata": {},
   "outputs": [],
   "source": [
    "#!python -m spacy download en"
   ]
  },
  {
   "cell_type": "code",
   "execution_count": 86,
   "metadata": {},
   "outputs": [
    {
     "name": "stdout",
     "output_type": "stream",
     "text": [
      "0.6.0\n",
      "2.1.1+cu118\n",
      "cuda\n"
     ]
    },
    {
     "data": {
      "text/plain": [
       "<torch._C.Generator at 0x1dee1783670>"
      ]
     },
     "execution_count": 86,
     "metadata": {},
     "output_type": "execute_result"
    }
   ],
   "source": [
    "device = torch.device(\"cuda\" if torch.cuda.is_available() else \"cpu\")\n",
    "print(torchtext.__version__)\n",
    "print(torch.__version__)\n",
    "print(device)\n",
    "torch.backends.cudnn.deterministic = True\n",
    "\n",
    "# constants\n",
    "FILE_NAME = \"training.1600000.processed.noemoticon.csv\"\n",
    "SUBSET_FILE_NAME = \"data.csv\"\n",
    "N = 80000\n",
    "SEED = 1\n",
    "SPLIT_RATIO = [0.7, 0.15, 0.15]\n",
    "MAX_VOCAB_SIZE = 30000\n",
    "GLOVE_VECTORS = \"glove.6B.100d\"\n",
    "GLOVE_DIM = 100\n",
    "BATCH_SIZE = 128\n",
    "FIXED_LENGTH = 32\n",
    "PT_PATH = \"saves\"\n",
    "EPOCHS=20\n",
    "\n",
    "torch.manual_seed(SEED)"
   ]
  },
  {
   "cell_type": "markdown",
   "metadata": {},
   "source": [
    "## Data Preprocessing\n",
    "Load in the subset created in the `RNN-analysis` notebook."
   ]
  },
  {
   "cell_type": "code",
   "execution_count": 87,
   "metadata": {},
   "outputs": [
    {
     "data": {
      "text/html": [
       "<div>\n",
       "<style scoped>\n",
       "    .dataframe tbody tr th:only-of-type {\n",
       "        vertical-align: middle;\n",
       "    }\n",
       "\n",
       "    .dataframe tbody tr th {\n",
       "        vertical-align: top;\n",
       "    }\n",
       "\n",
       "    .dataframe thead th {\n",
       "        text-align: right;\n",
       "    }\n",
       "</style>\n",
       "<table border=\"1\" class=\"dataframe\">\n",
       "  <thead>\n",
       "    <tr style=\"text-align: right;\">\n",
       "      <th></th>\n",
       "      <th>0</th>\n",
       "      <th>1</th>\n",
       "      <th>2</th>\n",
       "      <th>3</th>\n",
       "      <th>4</th>\n",
       "      <th>5</th>\n",
       "    </tr>\n",
       "  </thead>\n",
       "  <tbody>\n",
       "    <tr>\n",
       "      <th>0</th>\n",
       "      <td>0</td>\n",
       "      <td>2190584004</td>\n",
       "      <td>Tue Jun 16 03:08:48 PDT 2009</td>\n",
       "      <td>NO_QUERY</td>\n",
       "      <td>Vicki_Gee</td>\n",
       "      <td>i miss nikki nu nu already  shes always there ...</td>\n",
       "    </tr>\n",
       "    <tr>\n",
       "      <th>1</th>\n",
       "      <td>0</td>\n",
       "      <td>1881451988</td>\n",
       "      <td>Fri May 22 04:42:15 PDT 2009</td>\n",
       "      <td>NO_QUERY</td>\n",
       "      <td>PatCashin</td>\n",
       "      <td>So I had a dream last night. I  remember a sig...</td>\n",
       "    </tr>\n",
       "    <tr>\n",
       "      <th>2</th>\n",
       "      <td>0</td>\n",
       "      <td>2058252964</td>\n",
       "      <td>Sat Jun 06 14:34:17 PDT 2009</td>\n",
       "      <td>NO_QUERY</td>\n",
       "      <td>deelectable</td>\n",
       "      <td>@girlyghost ohh poor sickly you   (((hugs)) ho...</td>\n",
       "    </tr>\n",
       "    <tr>\n",
       "      <th>3</th>\n",
       "      <td>0</td>\n",
       "      <td>2237307600</td>\n",
       "      <td>Fri Jun 19 05:34:22 PDT 2009</td>\n",
       "      <td>NO_QUERY</td>\n",
       "      <td>justinekepa</td>\n",
       "      <td>it is raining again</td>\n",
       "    </tr>\n",
       "    <tr>\n",
       "      <th>4</th>\n",
       "      <td>0</td>\n",
       "      <td>2224301193</td>\n",
       "      <td>Thu Jun 18 09:20:06 PDT 2009</td>\n",
       "      <td>NO_QUERY</td>\n",
       "      <td>cmatt007</td>\n",
       "      <td>@MissKeriBaby wish I was in LA right now</td>\n",
       "    </tr>\n",
       "  </tbody>\n",
       "</table>\n",
       "</div>"
      ],
      "text/plain": [
       "   0           1                             2         3            4  \\\n",
       "0  0  2190584004  Tue Jun 16 03:08:48 PDT 2009  NO_QUERY    Vicki_Gee   \n",
       "1  0  1881451988  Fri May 22 04:42:15 PDT 2009  NO_QUERY    PatCashin   \n",
       "2  0  2058252964  Sat Jun 06 14:34:17 PDT 2009  NO_QUERY  deelectable   \n",
       "3  0  2237307600  Fri Jun 19 05:34:22 PDT 2009  NO_QUERY  justinekepa   \n",
       "4  0  2224301193  Thu Jun 18 09:20:06 PDT 2009  NO_QUERY     cmatt007   \n",
       "\n",
       "                                                   5  \n",
       "0  i miss nikki nu nu already  shes always there ...  \n",
       "1  So I had a dream last night. I  remember a sig...  \n",
       "2  @girlyghost ohh poor sickly you   (((hugs)) ho...  \n",
       "3                               it is raining again   \n",
       "4          @MissKeriBaby wish I was in LA right now   "
      ]
     },
     "execution_count": 87,
     "metadata": {},
     "output_type": "execute_result"
    }
   ],
   "source": [
    "subset_df = pd.read_csv(SUBSET_FILE_NAME, header=None, engine=\"python\", encoding=\"latin-1\")\n",
    "subset_df.head()"
   ]
  },
  {
   "cell_type": "markdown",
   "metadata": {},
   "source": [
    "### Creating the Dataset\n",
    "First, declare the text and label fields. By setting `fix_length`, we will be padding all sequences to it. We will also be using `batch_first=True` to match what the `Conv2d` layers expect."
   ]
  },
  {
   "cell_type": "code",
   "execution_count": 88,
   "metadata": {},
   "outputs": [],
   "source": [
    "TEXT = data.Field(tokenize='spacy', lower=True, fix_length=FIXED_LENGTH, batch_first=True)\n",
    "LABEL = data.LabelField(dtype=torch.float, batch_first=True)\n",
    "\n",
    "fields = [\n",
    "    ('label', LABEL), \n",
    "    ('id', None),\n",
    "    ('date', None),\n",
    "    ('query', None),\n",
    "    ('name', None), \n",
    "    ('text', TEXT),\n",
    "    ('category',None)\n",
    "]\n",
    "\n",
    "dataset = data.TabularDataset(\n",
    "    path=SUBSET_FILE_NAME,\n",
    "    format=\"CSV\",\n",
    "    fields=fields,\n",
    "    skip_header=False\n",
    ")"
   ]
  },
  {
   "cell_type": "code",
   "execution_count": 89,
   "metadata": {},
   "outputs": [
    {
     "name": "stdout",
     "output_type": "stream",
     "text": [
      "Train dataset size: 56000\n",
      "Test dataset size: 12000\n",
      "Validation dataset size: 12000\n"
     ]
    }
   ],
   "source": [
    "# Split into train, test, validation sets\n",
    "train_dataset, test_dataset, validation_dataset = dataset.split(split_ratio=SPLIT_RATIO)\n",
    "\n",
    "print(f\"Train dataset size: {len(train_dataset)}\")\n",
    "print(f\"Test dataset size: {len(test_dataset)}\")\n",
    "print(f\"Validation dataset size: {len(validation_dataset)}\")"
   ]
  },
  {
   "cell_type": "markdown",
   "metadata": {},
   "source": [
    "### Building the Vocab\n",
    "The vocab will be built using pre-train [GloVe](https://nlp.stanford.edu/projects/glove/) embeddings. It is also important to note that the vocab should only be built using the test dataset. The `unk_init` parameter specifies the initialization method for the vectors of out-of-vocabulary (OOV) tokens. It will be set to use a normal distribution for the initialization of OOV token vectors."
   ]
  },
  {
   "cell_type": "code",
   "execution_count": 90,
   "metadata": {},
   "outputs": [],
   "source": [
    "TEXT.build_vocab(\n",
    "    train_dataset, \n",
    "    max_size = MAX_VOCAB_SIZE,\n",
    "    vectors = GLOVE_VECTORS,\n",
    "    unk_init = torch.Tensor.normal_\n",
    ")\n",
    "\n",
    "LABEL.build_vocab(train_dataset)"
   ]
  },
  {
   "cell_type": "markdown",
   "metadata": {},
   "source": [
    "### Bucket Iterators\n",
    "Text sequences will be grouped in batches based on similar lengths. Text sequences in a batch will all have the same length by applying padding. By batching sequences of similar lengths, minimal padding will be applied in each batch"
   ]
  },
  {
   "cell_type": "code",
   "execution_count": 91,
   "metadata": {},
   "outputs": [],
   "source": [
    "train_iterator, validation_iterator, test_iterator = data.BucketIterator.splits(\n",
    "    (train_dataset, validation_dataset, test_dataset),\n",
    "    device = device,\n",
    "    batch_size = BATCH_SIZE,\n",
    "    sort_key = lambda sample: len(sample.text),\n",
    "    sort_within_batch = True\n",
    ")"
   ]
  },
  {
   "cell_type": "markdown",
   "metadata": {},
   "source": [
    "### What does our data look like?"
   ]
  },
  {
   "cell_type": "code",
   "execution_count": 92,
   "metadata": {},
   "outputs": [
    {
     "name": "stdout",
     "output_type": "stream",
     "text": [
      "Length tensor shape: torch.Size([128, 32])\n",
      "Text tensor shape: torch.Size([128, 32])\n",
      "Labels tensor shape: torch.Size([128])\n",
      "Text words: ['<unk>', 'dang', 'it', ' ', 'i', \"'ll\", 'be', 'there', 'the', '25', '-', '26th', '.', 'i', 'ca', \"n't\", 'believe', 'we', 'always', 'miss', 'eachother', '!', '<pad>', '<pad>', '<pad>', '<pad>', '<pad>', '<pad>', '<pad>', '<pad>', '<pad>', '<pad>']\n",
      "Labels: tensor([1., 0., 1., 0., 0., 1., 0., 1., 1., 0., 1., 1., 1., 0., 0., 1., 0., 1.,\n",
      "        1., 1., 1., 0., 0., 1., 0., 1., 1., 1., 0., 0., 1., 0., 0., 1., 0., 0.,\n",
      "        1., 1., 1., 0., 0., 1., 0., 1., 0., 1., 1., 1., 0., 1., 0., 1., 1., 0.,\n",
      "        1., 1., 1., 1., 0., 0., 1., 1., 0., 1., 1., 0., 0., 0., 0., 0., 0., 0.,\n",
      "        0., 1., 1., 0., 1., 0., 1., 1., 0., 1., 1., 1., 1., 0., 1., 0., 1., 1.,\n",
      "        1., 0., 1., 1., 1., 0., 1., 0., 0., 1., 1., 0., 0., 0., 0., 1., 1., 1.,\n",
      "        1., 0., 1., 1., 0., 1., 1., 0., 1., 1., 1., 0., 1., 1., 1., 0., 1., 0.,\n",
      "        1., 0.], device='cuda:0')\n"
     ]
    }
   ],
   "source": [
    "for batch in train_iterator:\n",
    "    sequences, labels = batch.text, batch.label\n",
    "    print(\"Length tensor shape:\", sequences.shape)\n",
    "    print(\"Text tensor shape:\", sequences.shape)\n",
    "    print(\"Labels tensor shape:\", labels.shape)\n",
    "    text_words = [train_iterator.dataset.fields['text'].vocab.itos[idx] for idx in sequences[0].tolist()]\n",
    "    print(\"Text words:\", text_words)\n",
    "    print(\"Labels:\", labels)\n",
    "    break"
   ]
  },
  {
   "cell_type": "markdown",
   "metadata": {},
   "source": [
    "## Simple CNN Model"
   ]
  },
  {
   "cell_type": "code",
   "execution_count": 94,
   "metadata": {},
   "outputs": [],
   "source": [
    "import CNN\n",
    "importlib.reload(CNN)\n",
    "\n",
    "padding_idx = padding_idx=TEXT.vocab.stoi[TEXT.pad_token]\n",
    "unknown_idx = padding_idx=TEXT.vocab.stoi[TEXT.unk_token]\n",
    "\n",
    "model = CNN.Classifier(\n",
    "    input_dim=len(TEXT.vocab), \n",
    "    embedding_dim=GLOVE_DIM, \n",
    "    num_filters=20,\n",
    "    filter_sizes=[3],\n",
    "    output_dim=1,\n",
    "    dropout_probability=0.75,\n",
    "    padding_idx=padding_idx,\n",
    "    name=\"simple_CNN_model\"\n",
    ")\n",
    "\n",
    "pretrained_embeddings = TEXT.vocab.vectors\n",
    "model.embedding.weight.data.copy_(pretrained_embeddings)\n",
    "\n",
    "model.embedding.weight.data[padding_idx] = torch.zeros(GLOVE_DIM)\n",
    "model.embedding.weight.data[unknown_idx] = torch.zeros(GLOVE_DIM)\n",
    "\n",
    "optimizer = optim.Adam(model.parameters(), lr=2e-2)\n",
    "criterion = nn.BCEWithLogitsLoss()\n",
    "\n",
    "model = model.to(device)\n",
    "criterion = criterion.to(device)"
   ]
  },
  {
   "cell_type": "markdown",
   "metadata": {},
   "source": [
    "### Train and Validation Loops"
   ]
  },
  {
   "cell_type": "code",
   "execution_count": 95,
   "metadata": {},
   "outputs": [],
   "source": [
    "def train(model, iterator, optimizer, criterion):\n",
    "    total_loss = 0.0\n",
    "    total_accuracy = 0.0\n",
    "    model.train()\n",
    "    for batch in iterator:\n",
    "        optimizer.zero_grad()\n",
    "        sequences = batch.text\n",
    "        predictions = model(sequences).squeeze(1)\n",
    "        loss = criterion(predictions, batch.label)\n",
    "        accuracy = helpers.get_accuracy(predictions, batch.label)\n",
    "        loss.backward()\n",
    "        optimizer.step()\n",
    "        total_loss += loss.item()\n",
    "        total_accuracy += accuracy.item()\n",
    "    return total_loss / len(iterator), total_accuracy / len(iterator)\n",
    "\n",
    "def evaluate(model, iterator, criterion):\n",
    "    total_loss = 0.0\n",
    "    total_accuracy = 0.0\n",
    "    model.eval()\n",
    "    with torch.no_grad():\n",
    "        for batch in iterator:\n",
    "            text = batch.text\n",
    "            predictions = model(text).squeeze(1)\n",
    "            loss = criterion(predictions, batch.label)\n",
    "            accuracy = helpers.get_accuracy(predictions, batch.label)\n",
    "            total_loss += loss.item()\n",
    "            total_accuracy += accuracy.item()\n",
    "    return total_loss / len(iterator), total_accuracy / len(iterator)"
   ]
  },
  {
   "cell_type": "code",
   "execution_count": 96,
   "metadata": {},
   "outputs": [
    {
     "name": "stdout",
     "output_type": "stream",
     "text": [
      "Epoch 1 | Elapsed: 0:00:26.734686\n",
      "Train Loss 0.6 | Train Accuracy: 68.26%\n",
      "Validation Loss 0.52 | Validation Accuracy: 74.81%\n",
      "\n",
      "Epoch 2 | Elapsed: 0:00:26.181948\n",
      "Train Loss 0.55 | Train Accuracy: 74.01%\n",
      "Validation Loss 0.54 | Validation Accuracy: 74.09%\n",
      "\n",
      "Epoch 3 | Elapsed: 0:00:26.120841\n",
      "Train Loss 0.52 | Train Accuracy: 76.22%\n",
      "Validation Loss 0.54 | Validation Accuracy: 75.75%\n",
      "\n",
      "Epoch 4 | Elapsed: 0:00:26.473601\n",
      "Train Loss 0.5 | Train Accuracy: 77.45%\n",
      "Validation Loss 0.57 | Validation Accuracy: 75.22%\n",
      "\n",
      "Epoch 5 | Elapsed: 0:00:26.758991\n",
      "Train Loss 0.47 | Train Accuracy: 79.11%\n",
      "Validation Loss 0.61 | Validation Accuracy: 71.09%\n",
      "\n"
     ]
    }
   ],
   "source": [
    "train_accuracies, validation_accuraies = helpers.train_loop(\n",
    "    train_fn=train,\n",
    "    evaluate_fn=evaluate,\n",
    "    model=model,\n",
    "    train_iterator=train_iterator,\n",
    "    validation_iterator=validation_iterator,\n",
    "    optimizer=optimizer,\n",
    "    criterion=criterion,\n",
    "    epochs=EPOCHS,\n",
    "    check_point_path=PT_PATH\n",
    ")"
   ]
  },
  {
   "cell_type": "code",
   "execution_count": 97,
   "metadata": {},
   "outputs": [
    {
     "data": {
      "image/png": "[encoded data removed]",
      "text/plain": [
       "<Figure size 640x480 with 1 Axes>"
      ]
     },
     "metadata": {},
     "output_type": "display_data"
    }
   ],
   "source": [
    "helpers.plot_learning_curves(train_accuracies, validation_accuraies, model.name)"
   ]
  },
  {
   "cell_type": "markdown",
   "metadata": {},
   "source": [
    "## Multi-Layered CNN Model"
   ]
  },
  {
   "cell_type": "code",
   "execution_count": 98,
   "metadata": {},
   "outputs": [],
   "source": [
    "padding_idx = padding_idx=TEXT.vocab.stoi[TEXT.pad_token]\n",
    "unknown_idx = padding_idx=TEXT.vocab.stoi[TEXT.unk_token]\n",
    "\n",
    "model2 = CNN.Classifier(\n",
    "    input_dim=len(TEXT.vocab), \n",
    "    embedding_dim=GLOVE_DIM, \n",
    "    num_filters=50,\n",
    "    filter_sizes=[3, 4, 5, 6],\n",
    "    output_dim=1,\n",
    "    dropout_probability=0.75,\n",
    "    padding_idx=padding_idx,\n",
    "    name=\"multi_layered_CNN_model\"\n",
    ")\n",
    "\n",
    "pretrained_embeddings = TEXT.vocab.vectors\n",
    "model2.embedding.weight.data.copy_(pretrained_embeddings)\n",
    "\n",
    "model2.embedding.weight.data[padding_idx] = torch.zeros(GLOVE_DIM)\n",
    "model2.embedding.weight.data[unknown_idx] = torch.zeros(GLOVE_DIM)\n",
    "\n",
    "optimizer = optim.Adam(model2.parameters(), lr=2e-2)\n",
    "criterion = nn.BCEWithLogitsLoss()\n",
    "\n",
    "model2 = model2.to(device)\n",
    "criterion = criterion.to(device)"
   ]
  },
  {
   "cell_type": "code",
   "execution_count": 99,
   "metadata": {},
   "outputs": [
    {
     "ename": "KeyboardInterrupt",
     "evalue": "",
     "output_type": "error",
     "traceback": [
      "\u001b[1;31m---------------------------------------------------------------------------\u001b[0m",
      "\u001b[1;31mKeyboardInterrupt\u001b[0m                         Traceback (most recent call last)",
      "\u001b[1;32mc:\\Users\\Yousef\\source\\repos\\Sentiment-Analysis\\CNN-analysis.ipynb Cell 24\u001b[0m line \u001b[0;36m1\n\u001b[1;32m----> <a href='vscode-notebook-cell:/c%3A/Users/Yousef/source/repos/Sentiment-Analysis/CNN-analysis.ipynb#X62sZmlsZQ%3D%3D?line=0'>1</a>\u001b[0m train_accuracies, validation_accuraies \u001b[39m=\u001b[39m helpers\u001b[39m.\u001b[39;49mtrain_loop(\n\u001b[0;32m      <a href='vscode-notebook-cell:/c%3A/Users/Yousef/source/repos/Sentiment-Analysis/CNN-analysis.ipynb#X62sZmlsZQ%3D%3D?line=1'>2</a>\u001b[0m     train_fn\u001b[39m=\u001b[39;49mtrain,\n\u001b[0;32m      <a href='vscode-notebook-cell:/c%3A/Users/Yousef/source/repos/Sentiment-Analysis/CNN-analysis.ipynb#X62sZmlsZQ%3D%3D?line=2'>3</a>\u001b[0m     evaluate_fn\u001b[39m=\u001b[39;49mevaluate,\n\u001b[0;32m      <a href='vscode-notebook-cell:/c%3A/Users/Yousef/source/repos/Sentiment-Analysis/CNN-analysis.ipynb#X62sZmlsZQ%3D%3D?line=3'>4</a>\u001b[0m     model\u001b[39m=\u001b[39;49mmodel,\n\u001b[0;32m      <a href='vscode-notebook-cell:/c%3A/Users/Yousef/source/repos/Sentiment-Analysis/CNN-analysis.ipynb#X62sZmlsZQ%3D%3D?line=4'>5</a>\u001b[0m     train_iterator\u001b[39m=\u001b[39;49mtrain_iterator,\n\u001b[0;32m      <a href='vscode-notebook-cell:/c%3A/Users/Yousef/source/repos/Sentiment-Analysis/CNN-analysis.ipynb#X62sZmlsZQ%3D%3D?line=5'>6</a>\u001b[0m     validation_iterator\u001b[39m=\u001b[39;49mvalidation_iterator,\n\u001b[0;32m      <a href='vscode-notebook-cell:/c%3A/Users/Yousef/source/repos/Sentiment-Analysis/CNN-analysis.ipynb#X62sZmlsZQ%3D%3D?line=6'>7</a>\u001b[0m     optimizer\u001b[39m=\u001b[39;49moptimizer,\n\u001b[0;32m      <a href='vscode-notebook-cell:/c%3A/Users/Yousef/source/repos/Sentiment-Analysis/CNN-analysis.ipynb#X62sZmlsZQ%3D%3D?line=7'>8</a>\u001b[0m     criterion\u001b[39m=\u001b[39;49mcriterion,\n\u001b[0;32m      <a href='vscode-notebook-cell:/c%3A/Users/Yousef/source/repos/Sentiment-Analysis/CNN-analysis.ipynb#X62sZmlsZQ%3D%3D?line=8'>9</a>\u001b[0m     epochs\u001b[39m=\u001b[39;49m\u001b[39m5\u001b[39;49m,\n\u001b[0;32m     <a href='vscode-notebook-cell:/c%3A/Users/Yousef/source/repos/Sentiment-Analysis/CNN-analysis.ipynb#X62sZmlsZQ%3D%3D?line=9'>10</a>\u001b[0m     check_point_path\u001b[39m=\u001b[39;49mPT_PATH\n\u001b[0;32m     <a href='vscode-notebook-cell:/c%3A/Users/Yousef/source/repos/Sentiment-Analysis/CNN-analysis.ipynb#X62sZmlsZQ%3D%3D?line=10'>11</a>\u001b[0m )\n",
      "File \u001b[1;32mc:\\Users\\Yousef\\source\\repos\\Sentiment-Analysis\\helpers.py:13\u001b[0m, in \u001b[0;36mtrain_loop\u001b[1;34m(train_fn, evaluate_fn, model, train_iterator, validation_iterator, optimizer, criterion, epochs, check_point_path)\u001b[0m\n\u001b[0;32m     11\u001b[0m \u001b[39mfor\u001b[39;00m epoch \u001b[39min\u001b[39;00m \u001b[39mrange\u001b[39m(epochs):\n\u001b[0;32m     12\u001b[0m     start_time \u001b[39m=\u001b[39m time\u001b[39m.\u001b[39mtime()\n\u001b[1;32m---> 13\u001b[0m     train_loss, train_accuracy \u001b[39m=\u001b[39m train_fn(model, train_iterator, optimizer, criterion)\n\u001b[0;32m     14\u001b[0m     validation_loss, validation_accuracy \u001b[39m=\u001b[39m evaluate_fn(model, validation_iterator, criterion)\n\u001b[0;32m     15\u001b[0m     end_time \u001b[39m=\u001b[39m time\u001b[39m.\u001b[39mtime()\n",
      "\u001b[1;32mc:\\Users\\Yousef\\source\\repos\\Sentiment-Analysis\\CNN-analysis.ipynb Cell 24\u001b[0m line \u001b[0;36m1\n\u001b[0;32m      <a href='vscode-notebook-cell:/c%3A/Users/Yousef/source/repos/Sentiment-Analysis/CNN-analysis.ipynb#X62sZmlsZQ%3D%3D?line=8'>9</a>\u001b[0m loss \u001b[39m=\u001b[39m criterion(predictions, batch\u001b[39m.\u001b[39mlabel)\n\u001b[0;32m     <a href='vscode-notebook-cell:/c%3A/Users/Yousef/source/repos/Sentiment-Analysis/CNN-analysis.ipynb#X62sZmlsZQ%3D%3D?line=9'>10</a>\u001b[0m accuracy \u001b[39m=\u001b[39m helpers\u001b[39m.\u001b[39mget_accuracy(predictions, batch\u001b[39m.\u001b[39mlabel)\n\u001b[1;32m---> <a href='vscode-notebook-cell:/c%3A/Users/Yousef/source/repos/Sentiment-Analysis/CNN-analysis.ipynb#X62sZmlsZQ%3D%3D?line=10'>11</a>\u001b[0m loss\u001b[39m.\u001b[39;49mbackward()\n\u001b[0;32m     <a href='vscode-notebook-cell:/c%3A/Users/Yousef/source/repos/Sentiment-Analysis/CNN-analysis.ipynb#X62sZmlsZQ%3D%3D?line=11'>12</a>\u001b[0m optimizer\u001b[39m.\u001b[39mstep()\n\u001b[0;32m     <a href='vscode-notebook-cell:/c%3A/Users/Yousef/source/repos/Sentiment-Analysis/CNN-analysis.ipynb#X62sZmlsZQ%3D%3D?line=12'>13</a>\u001b[0m total_loss \u001b[39m+\u001b[39m\u001b[39m=\u001b[39m loss\u001b[39m.\u001b[39mitem()\n",
      "File \u001b[1;32m~\\source\\repos\\Sentiment-Analysis\\venv\\Lib\\site-packages\\torch\\_tensor.py:492\u001b[0m, in \u001b[0;36mTensor.backward\u001b[1;34m(self, gradient, retain_graph, create_graph, inputs)\u001b[0m\n\u001b[0;32m    482\u001b[0m \u001b[39mif\u001b[39;00m has_torch_function_unary(\u001b[39mself\u001b[39m):\n\u001b[0;32m    483\u001b[0m     \u001b[39mreturn\u001b[39;00m handle_torch_function(\n\u001b[0;32m    484\u001b[0m         Tensor\u001b[39m.\u001b[39mbackward,\n\u001b[0;32m    485\u001b[0m         (\u001b[39mself\u001b[39m,),\n\u001b[1;32m   (...)\u001b[0m\n\u001b[0;32m    490\u001b[0m         inputs\u001b[39m=\u001b[39minputs,\n\u001b[0;32m    491\u001b[0m     )\n\u001b[1;32m--> 492\u001b[0m torch\u001b[39m.\u001b[39;49mautograd\u001b[39m.\u001b[39;49mbackward(\n\u001b[0;32m    493\u001b[0m     \u001b[39mself\u001b[39;49m, gradient, retain_graph, create_graph, inputs\u001b[39m=\u001b[39;49minputs\n\u001b[0;32m    494\u001b[0m )\n",
      "File \u001b[1;32m~\\source\\repos\\Sentiment-Analysis\\venv\\Lib\\site-packages\\torch\\autograd\\__init__.py:251\u001b[0m, in \u001b[0;36mbackward\u001b[1;34m(tensors, grad_tensors, retain_graph, create_graph, grad_variables, inputs)\u001b[0m\n\u001b[0;32m    246\u001b[0m     retain_graph \u001b[39m=\u001b[39m create_graph\n\u001b[0;32m    248\u001b[0m \u001b[39m# The reason we repeat the same comment below is that\u001b[39;00m\n\u001b[0;32m    249\u001b[0m \u001b[39m# some Python versions print out the first line of a multi-line function\u001b[39;00m\n\u001b[0;32m    250\u001b[0m \u001b[39m# calls in the traceback and some print out the last line\u001b[39;00m\n\u001b[1;32m--> 251\u001b[0m Variable\u001b[39m.\u001b[39;49m_execution_engine\u001b[39m.\u001b[39;49mrun_backward(  \u001b[39m# Calls into the C++ engine to run the backward pass\u001b[39;49;00m\n\u001b[0;32m    252\u001b[0m     tensors,\n\u001b[0;32m    253\u001b[0m     grad_tensors_,\n\u001b[0;32m    254\u001b[0m     retain_graph,\n\u001b[0;32m    255\u001b[0m     create_graph,\n\u001b[0;32m    256\u001b[0m     inputs,\n\u001b[0;32m    257\u001b[0m     allow_unreachable\u001b[39m=\u001b[39;49m\u001b[39mTrue\u001b[39;49;00m,\n\u001b[0;32m    258\u001b[0m     accumulate_grad\u001b[39m=\u001b[39;49m\u001b[39mTrue\u001b[39;49;00m,\n\u001b[0;32m    259\u001b[0m )\n",
      "\u001b[1;31mKeyboardInterrupt\u001b[0m: "
     ]
    }
   ],
   "source": [
    "train_accuracies, validation_accuraies = helpers.train_loop(\n",
    "    train_fn=train,\n",
    "    evaluate_fn=evaluate,\n",
    "    model=model2,\n",
    "    train_iterator=train_iterator,\n",
    "    validation_iterator=validation_iterator,\n",
    "    optimizer=optimizer,\n",
    "    criterion=criterion,\n",
    "    epochs=EPOCHS,\n",
    "    check_point_path=PT_PATH\n",
    ")"
   ]
  },
  {
   "cell_type": "code",
   "execution_count": null,
   "metadata": {},
   "outputs": [],
   "source": [
    "helpers.plot_learning_curves(train_accuracies, validation_accuraies, model2.name)"
   ]
  },
  {
   "cell_type": "markdown",
   "metadata": {},
   "source": [
    "# Compare the models"
   ]
  },
  {
   "cell_type": "code",
   "execution_count": null,
   "metadata": {},
   "outputs": [],
   "source": [
    "a, b = helpers.compare_best(PT_PATH, model, model2, evaluate, test_iterator, criterion)\n",
    "print(f\"Model {model.name} test accuracy: {a}\")\n",
    "print(f\"Model {model2.name} test accuracy: {b}\")"
   ]
  }
 ],
 "metadata": {
  "kernelspec": {
   "display_name": "Python 3 (ipykernel)",
   "language": "python",
   "name": "python3"
  },
  "language_info": {
   "codemirror_mode": {
    "name": "ipython",
    "version": 3
   },
   "file_extension": ".py",
   "mimetype": "text/x-python",
   "name": "python",
   "nbconvert_exporter": "python",
   "pygments_lexer": "ipython3",
   "version": "3.11.6"
  }
 },
 "nbformat": 4,
 "nbformat_minor": 2
}
