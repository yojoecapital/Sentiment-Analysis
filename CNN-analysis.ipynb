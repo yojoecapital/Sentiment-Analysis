{
 "cells": [
  {
   "cell_type": "code",
   "execution_count": 102,
   "metadata": {},
   "outputs": [
    {
     "data": {
      "text/plain": [
       "<module 'helpers' from 'c:\\\\Users\\\\Yousef\\\\source\\\\repos\\\\Sentiment-Analysis\\\\helpers.py'>"
      ]
     },
     "execution_count": 102,
     "metadata": {},
     "output_type": "execute_result"
    }
   ],
   "source": [
    "import torch\n",
    "import pandas as pd\n",
    "import torchtext\n",
    "from torchtext import data\n",
    "import matplotlib.pyplot as plt\n",
    "import torch.optim as optim\n",
    "import torch.nn as nn\n",
    "import helpers\n",
    "import importlib\n",
    "importlib.reload(helpers)"
   ]
  },
  {
   "cell_type": "markdown",
   "metadata": {},
   "source": [
    "Uncomment the line below to download the spaCy tokenizer if not already done so"
   ]
  },
  {
   "cell_type": "code",
   "execution_count": 103,
   "metadata": {},
   "outputs": [],
   "source": [
    "#!python -m spacy download en"
   ]
  },
  {
   "cell_type": "code",
   "execution_count": 104,
   "metadata": {},
   "outputs": [
    {
     "name": "stdout",
     "output_type": "stream",
     "text": [
      "0.6.0\n",
      "2.1.1+cu118\n",
      "cuda\n"
     ]
    },
    {
     "data": {
      "text/plain": [
       "<torch._C.Generator at 0x1dee1783670>"
      ]
     },
     "execution_count": 104,
     "metadata": {},
     "output_type": "execute_result"
    }
   ],
   "source": [
    "device = torch.device(\"cuda\" if torch.cuda.is_available() else \"cpu\")\n",
    "print(torchtext.__version__)\n",
    "print(torch.__version__)\n",
    "print(device)\n",
    "torch.backends.cudnn.deterministic = True\n",
    "\n",
    "# constants\n",
    "FILE_NAME = \"training.1600000.processed.noemoticon.csv\"\n",
    "SUBSET_FILE_NAME = \"data.csv\"\n",
    "N = 80000\n",
    "SEED = 1\n",
    "SPLIT_RATIO = [0.7, 0.15, 0.15]\n",
    "MAX_VOCAB_SIZE = 30000\n",
    "GLOVE_VECTORS = \"glove.6B.100d\"\n",
    "GLOVE_DIM = 100\n",
    "BATCH_SIZE = 128\n",
    "FIXED_LENGTH = 32\n",
    "PT_PATH = \"saves\"\n",
    "EPOCHS=20\n",
    "LR = 1e-4\n",
    "\n",
    "torch.manual_seed(SEED)"
   ]
  },
  {
   "cell_type": "markdown",
   "metadata": {},
   "source": [
    "## Data Preprocessing\n",
    "Load in the subset created in the `RNN-analysis` notebook."
   ]
  },
  {
   "cell_type": "code",
   "execution_count": 105,
   "metadata": {},
   "outputs": [
    {
     "data": {
      "text/html": [
       "<div>\n",
       "<style scoped>\n",
       "    .dataframe tbody tr th:only-of-type {\n",
       "        vertical-align: middle;\n",
       "    }\n",
       "\n",
       "    .dataframe tbody tr th {\n",
       "        vertical-align: top;\n",
       "    }\n",
       "\n",
       "    .dataframe thead th {\n",
       "        text-align: right;\n",
       "    }\n",
       "</style>\n",
       "<table border=\"1\" class=\"dataframe\">\n",
       "  <thead>\n",
       "    <tr style=\"text-align: right;\">\n",
       "      <th></th>\n",
       "      <th>0</th>\n",
       "      <th>1</th>\n",
       "      <th>2</th>\n",
       "      <th>3</th>\n",
       "      <th>4</th>\n",
       "      <th>5</th>\n",
       "    </tr>\n",
       "  </thead>\n",
       "  <tbody>\n",
       "    <tr>\n",
       "      <th>0</th>\n",
       "      <td>0</td>\n",
       "      <td>2190584004</td>\n",
       "      <td>Tue Jun 16 03:08:48 PDT 2009</td>\n",
       "      <td>NO_QUERY</td>\n",
       "      <td>Vicki_Gee</td>\n",
       "      <td>i miss nikki nu nu already  shes always there ...</td>\n",
       "    </tr>\n",
       "    <tr>\n",
       "      <th>1</th>\n",
       "      <td>0</td>\n",
       "      <td>1881451988</td>\n",
       "      <td>Fri May 22 04:42:15 PDT 2009</td>\n",
       "      <td>NO_QUERY</td>\n",
       "      <td>PatCashin</td>\n",
       "      <td>So I had a dream last night. I  remember a sig...</td>\n",
       "    </tr>\n",
       "    <tr>\n",
       "      <th>2</th>\n",
       "      <td>0</td>\n",
       "      <td>2058252964</td>\n",
       "      <td>Sat Jun 06 14:34:17 PDT 2009</td>\n",
       "      <td>NO_QUERY</td>\n",
       "      <td>deelectable</td>\n",
       "      <td>@girlyghost ohh poor sickly you   (((hugs)) ho...</td>\n",
       "    </tr>\n",
       "    <tr>\n",
       "      <th>3</th>\n",
       "      <td>0</td>\n",
       "      <td>2237307600</td>\n",
       "      <td>Fri Jun 19 05:34:22 PDT 2009</td>\n",
       "      <td>NO_QUERY</td>\n",
       "      <td>justinekepa</td>\n",
       "      <td>it is raining again</td>\n",
       "    </tr>\n",
       "    <tr>\n",
       "      <th>4</th>\n",
       "      <td>0</td>\n",
       "      <td>2224301193</td>\n",
       "      <td>Thu Jun 18 09:20:06 PDT 2009</td>\n",
       "      <td>NO_QUERY</td>\n",
       "      <td>cmatt007</td>\n",
       "      <td>@MissKeriBaby wish I was in LA right now</td>\n",
       "    </tr>\n",
       "  </tbody>\n",
       "</table>\n",
       "</div>"
      ],
      "text/plain": [
       "   0           1                             2         3            4  \\\n",
       "0  0  2190584004  Tue Jun 16 03:08:48 PDT 2009  NO_QUERY    Vicki_Gee   \n",
       "1  0  1881451988  Fri May 22 04:42:15 PDT 2009  NO_QUERY    PatCashin   \n",
       "2  0  2058252964  Sat Jun 06 14:34:17 PDT 2009  NO_QUERY  deelectable   \n",
       "3  0  2237307600  Fri Jun 19 05:34:22 PDT 2009  NO_QUERY  justinekepa   \n",
       "4  0  2224301193  Thu Jun 18 09:20:06 PDT 2009  NO_QUERY     cmatt007   \n",
       "\n",
       "                                                   5  \n",
       "0  i miss nikki nu nu already  shes always there ...  \n",
       "1  So I had a dream last night. I  remember a sig...  \n",
       "2  @girlyghost ohh poor sickly you   (((hugs)) ho...  \n",
       "3                               it is raining again   \n",
       "4          @MissKeriBaby wish I was in LA right now   "
      ]
     },
     "execution_count": 105,
     "metadata": {},
     "output_type": "execute_result"
    }
   ],
   "source": [
    "subset_df = pd.read_csv(SUBSET_FILE_NAME, header=None, engine=\"python\", encoding=\"latin-1\")\n",
    "subset_df.head()"
   ]
  },
  {
   "cell_type": "markdown",
   "metadata": {},
   "source": [
    "### Creating the Dataset\n",
    "First, declare the text and label fields. By setting `fix_length`, we will be padding all sequences to it. We will also be using `batch_first=True` to match what the `Conv2d` layers expect."
   ]
  },
  {
   "cell_type": "code",
   "execution_count": 106,
   "metadata": {},
   "outputs": [],
   "source": [
    "TEXT = data.Field(tokenize='spacy', lower=True, fix_length=FIXED_LENGTH, batch_first=True)\n",
    "LABEL = data.LabelField(dtype=torch.float, batch_first=True)\n",
    "\n",
    "fields = [\n",
    "    ('label', LABEL), \n",
    "    ('id', None),\n",
    "    ('date', None),\n",
    "    ('query', None),\n",
    "    ('name', None), \n",
    "    ('text', TEXT),\n",
    "    ('category',None)\n",
    "]\n",
    "\n",
    "dataset = data.TabularDataset(\n",
    "    path=SUBSET_FILE_NAME,\n",
    "    format=\"CSV\",\n",
    "    fields=fields,\n",
    "    skip_header=False\n",
    ")"
   ]
  },
  {
   "cell_type": "code",
   "execution_count": 107,
   "metadata": {},
   "outputs": [
    {
     "name": "stdout",
     "output_type": "stream",
     "text": [
      "Train dataset size: 56000\n",
      "Test dataset size: 12000\n",
      "Validation dataset size: 12000\n"
     ]
    }
   ],
   "source": [
    "# Split into train, test, validation sets\n",
    "train_dataset, test_dataset, validation_dataset = dataset.split(split_ratio=SPLIT_RATIO)\n",
    "\n",
    "print(f\"Train dataset size: {len(train_dataset)}\")\n",
    "print(f\"Test dataset size: {len(test_dataset)}\")\n",
    "print(f\"Validation dataset size: {len(validation_dataset)}\")"
   ]
  },
  {
   "cell_type": "markdown",
   "metadata": {},
   "source": [
    "### Building the Vocab\n",
    "The vocab will be built using pre-train [GloVe](https://nlp.stanford.edu/projects/glove/) embeddings. It is also important to note that the vocab should only be built using the test dataset. The `unk_init` parameter specifies the initialization method for the vectors of out-of-vocabulary (OOV) tokens. It will be set to use a normal distribution for the initialization of OOV token vectors."
   ]
  },
  {
   "cell_type": "code",
   "execution_count": 108,
   "metadata": {},
   "outputs": [],
   "source": [
    "TEXT.build_vocab(\n",
    "    train_dataset, \n",
    "    max_size = MAX_VOCAB_SIZE,\n",
    "    vectors = GLOVE_VECTORS,\n",
    "    unk_init = torch.Tensor.normal_\n",
    ")\n",
    "\n",
    "LABEL.build_vocab(train_dataset)"
   ]
  },
  {
   "cell_type": "markdown",
   "metadata": {},
   "source": [
    "### Bucket Iterators\n",
    "Text sequences will be grouped in batches based on similar lengths. Text sequences in a batch will all have the same length by applying padding. By batching sequences of similar lengths, minimal padding will be applied in each batch"
   ]
  },
  {
   "cell_type": "code",
   "execution_count": 109,
   "metadata": {},
   "outputs": [],
   "source": [
    "train_iterator, validation_iterator, test_iterator = data.BucketIterator.splits(\n",
    "    (train_dataset, validation_dataset, test_dataset),\n",
    "    device = device,\n",
    "    batch_size = BATCH_SIZE,\n",
    "    sort_key = lambda sample: len(sample.text),\n",
    "    sort_within_batch = True\n",
    ")"
   ]
  },
  {
   "cell_type": "markdown",
   "metadata": {},
   "source": [
    "### What does our data look like?"
   ]
  },
  {
   "cell_type": "code",
   "execution_count": 110,
   "metadata": {},
   "outputs": [
    {
     "name": "stdout",
     "output_type": "stream",
     "text": [
      "Length tensor shape: torch.Size([128, 32])\n",
      "Text tensor shape: torch.Size([128, 32])\n",
      "Labels tensor shape: torch.Size([128])\n",
      "Text words: ['<unk>', 'dang', 'it', ' ', 'i', \"'ll\", 'be', 'there', 'the', '25', '-', '26th', '.', 'i', 'ca', \"n't\", 'believe', 'we', 'always', 'miss', 'eachother', '!', '<pad>', '<pad>', '<pad>', '<pad>', '<pad>', '<pad>', '<pad>', '<pad>', '<pad>', '<pad>']\n",
      "Labels: tensor([1., 0., 1., 0., 0., 1., 0., 1., 1., 0., 1., 1., 1., 0., 0., 1., 0., 1.,\n",
      "        1., 1., 1., 0., 0., 1., 0., 1., 1., 1., 0., 0., 1., 0., 0., 1., 0., 0.,\n",
      "        1., 1., 1., 0., 0., 1., 0., 1., 0., 1., 1., 1., 0., 1., 0., 1., 1., 0.,\n",
      "        1., 1., 1., 1., 0., 0., 1., 1., 0., 1., 1., 0., 0., 0., 0., 0., 0., 0.,\n",
      "        0., 1., 1., 0., 1., 0., 1., 1., 0., 1., 1., 1., 1., 0., 1., 0., 1., 1.,\n",
      "        1., 0., 1., 1., 1., 0., 1., 0., 0., 1., 1., 0., 0., 0., 0., 1., 1., 1.,\n",
      "        1., 0., 1., 1., 0., 1., 1., 0., 1., 1., 1., 0., 1., 1., 1., 0., 1., 0.,\n",
      "        1., 0.], device='cuda:0')\n"
     ]
    }
   ],
   "source": [
    "for batch in train_iterator:\n",
    "    sequences, labels = batch.text, batch.label\n",
    "    print(\"Length tensor shape:\", sequences.shape)\n",
    "    print(\"Text tensor shape:\", sequences.shape)\n",
    "    print(\"Labels tensor shape:\", labels.shape)\n",
    "    text_words = [train_iterator.dataset.fields['text'].vocab.itos[idx] for idx in sequences[0].tolist()]\n",
    "    print(\"Text words:\", text_words)\n",
    "    print(\"Labels:\", labels)\n",
    "    break"
   ]
  },
  {
   "cell_type": "markdown",
   "metadata": {},
   "source": [
    "## Simple CNN Model"
   ]
  },
  {
   "cell_type": "code",
   "execution_count": 111,
   "metadata": {},
   "outputs": [],
   "source": [
    "import CNN\n",
    "importlib.reload(CNN)\n",
    "\n",
    "padding_idx = padding_idx=TEXT.vocab.stoi[TEXT.pad_token]\n",
    "unknown_idx = padding_idx=TEXT.vocab.stoi[TEXT.unk_token]\n",
    "\n",
    "model = CNN.Classifier(\n",
    "    input_dim=len(TEXT.vocab), \n",
    "    embedding_dim=GLOVE_DIM, \n",
    "    num_filters=20,\n",
    "    filter_sizes=[3],\n",
    "    output_dim=1,\n",
    "    dropout_probability=0.5,\n",
    "    padding_idx=padding_idx,\n",
    "    name=\"simple_CNN_model\"\n",
    ")\n",
    "\n",
    "pretrained_embeddings = TEXT.vocab.vectors\n",
    "model.embedding.weight.data.copy_(pretrained_embeddings)\n",
    "\n",
    "model.embedding.weight.data[padding_idx] = torch.zeros(GLOVE_DIM)\n",
    "model.embedding.weight.data[unknown_idx] = torch.zeros(GLOVE_DIM)\n",
    "\n",
    "optimizer = optim.Adam(model.parameters(), lr=LR)\n",
    "criterion = nn.BCEWithLogitsLoss()\n",
    "\n",
    "model = model.to(device)\n",
    "criterion = criterion.to(device)"
   ]
  },
  {
   "cell_type": "markdown",
   "metadata": {},
   "source": [
    "### Train and Validation Loops"
   ]
  },
  {
   "cell_type": "code",
   "execution_count": 112,
   "metadata": {},
   "outputs": [],
   "source": [
    "def train(model, iterator, optimizer, criterion):\n",
    "    total_loss = 0.0\n",
    "    total_accuracy = 0.0\n",
    "    model.train()\n",
    "    for batch in iterator:\n",
    "        optimizer.zero_grad()\n",
    "        sequences = batch.text\n",
    "        predictions = model(sequences).squeeze(1)\n",
    "        loss = criterion(predictions, batch.label)\n",
    "        accuracy = helpers.get_accuracy(predictions, batch.label)\n",
    "        loss.backward()\n",
    "        optimizer.step()\n",
    "        total_loss += loss.item()\n",
    "        total_accuracy += accuracy.item()\n",
    "    return total_loss / len(iterator), total_accuracy / len(iterator)\n",
    "\n",
    "def evaluate(model, iterator, criterion):\n",
    "    total_loss = 0.0\n",
    "    total_accuracy = 0.0\n",
    "    model.eval()\n",
    "    with torch.no_grad():\n",
    "        for batch in iterator:\n",
    "            text = batch.text\n",
    "            predictions = model(text).squeeze(1)\n",
    "            loss = criterion(predictions, batch.label)\n",
    "            accuracy = helpers.get_accuracy(predictions, batch.label)\n",
    "            total_loss += loss.item()\n",
    "            total_accuracy += accuracy.item()\n",
    "    return total_loss / len(iterator), total_accuracy / len(iterator)"
   ]
  },
  {
   "cell_type": "code",
   "execution_count": 113,
   "metadata": {},
   "outputs": [
    {
     "name": "stdout",
     "output_type": "stream",
     "text": [
      "Epoch 1 | Elapsed: 0:00:27.273964\n",
      "Train Loss 0.71 | Train Accuracy: 51.59%\n",
      "Validation Loss 0.68 | Validation Accuracy: 58.59%\n",
      "\n",
      "Epoch 2 | Elapsed: 0:00:26.937933\n",
      "Train Loss 0.69 | Train Accuracy: 54.57%\n",
      "Validation Loss 0.68 | Validation Accuracy: 61.38%\n",
      "\n",
      "Epoch 3 | Elapsed: 0:00:27.315954\n",
      "Train Loss 0.68 | Train Accuracy: 57.82%\n",
      "Validation Loss 0.67 | Validation Accuracy: 64.03%\n",
      "\n",
      "Epoch 4 | Elapsed: 0:00:27.410123\n",
      "Train Loss 0.67 | Train Accuracy: 59.42%\n",
      "Validation Loss 0.66 | Validation Accuracy: 65.09%\n",
      "\n",
      "Epoch 5 | Elapsed: 0:00:27.356755\n",
      "Train Loss 0.66 | Train Accuracy: 61.09%\n",
      "Validation Loss 0.64 | Validation Accuracy: 66.46%\n",
      "\n",
      "Epoch 6 | Elapsed: 0:00:27.405789\n",
      "Train Loss 0.65 | Train Accuracy: 62.92%\n",
      "Validation Loss 0.63 | Validation Accuracy: 67.94%\n",
      "\n",
      "Epoch 7 | Elapsed: 0:00:27.401476\n",
      "Train Loss 0.64 | Train Accuracy: 64.00%\n",
      "Validation Loss 0.62 | Validation Accuracy: 69.13%\n",
      "\n",
      "Epoch 8 | Elapsed: 0:00:27.452055\n",
      "Train Loss 0.63 | Train Accuracy: 65.45%\n",
      "Validation Loss 0.6 | Validation Accuracy: 70.27%\n",
      "\n",
      "Epoch 9 | Elapsed: 0:00:27.356180\n",
      "Train Loss 0.62 | Train Accuracy: 66.62%\n",
      "Validation Loss 0.59 | Validation Accuracy: 71.23%\n",
      "\n",
      "Epoch 10 | Elapsed: 0:00:27.422841\n",
      "Train Loss 0.6 | Train Accuracy: 67.86%\n",
      "Validation Loss 0.58 | Validation Accuracy: 71.90%\n",
      "\n",
      "Epoch 11 | Elapsed: 0:00:27.423534\n",
      "Train Loss 0.6 | Train Accuracy: 68.35%\n",
      "Validation Loss 0.57 | Validation Accuracy: 72.40%\n",
      "\n",
      "Epoch 12 | Elapsed: 0:00:27.440151\n",
      "Train Loss 0.59 | Train Accuracy: 69.22%\n",
      "Validation Loss 0.56 | Validation Accuracy: 72.90%\n",
      "\n",
      "Epoch 13 | Elapsed: 0:00:27.450118\n",
      "Train Loss 0.58 | Train Accuracy: 69.69%\n",
      "Validation Loss 0.55 | Validation Accuracy: 73.55%\n",
      "\n",
      "Epoch 14 | Elapsed: 0:00:27.489181\n",
      "Train Loss 0.58 | Train Accuracy: 70.42%\n",
      "Validation Loss 0.55 | Validation Accuracy: 73.83%\n",
      "\n",
      "Epoch 15 | Elapsed: 0:00:27.662087\n",
      "Train Loss 0.57 | Train Accuracy: 70.74%\n",
      "Validation Loss 0.54 | Validation Accuracy: 74.01%\n",
      "\n",
      "Epoch 16 | Elapsed: 0:00:27.490420\n",
      "Train Loss 0.57 | Train Accuracy: 71.26%\n",
      "Validation Loss 0.54 | Validation Accuracy: 74.40%\n",
      "\n",
      "Epoch 17 | Elapsed: 0:00:27.493401\n",
      "Train Loss 0.56 | Train Accuracy: 71.59%\n",
      "Validation Loss 0.53 | Validation Accuracy: 74.63%\n",
      "\n",
      "Epoch 18 | Elapsed: 0:00:27.490097\n",
      "Train Loss 0.56 | Train Accuracy: 72.19%\n",
      "Validation Loss 0.53 | Validation Accuracy: 74.81%\n",
      "\n",
      "Epoch 19 | Elapsed: 0:00:27.506295\n",
      "Train Loss 0.56 | Train Accuracy: 72.11%\n",
      "Validation Loss 0.53 | Validation Accuracy: 74.96%\n",
      "\n",
      "Epoch 20 | Elapsed: 0:00:27.517222\n",
      "Train Loss 0.55 | Train Accuracy: 72.76%\n",
      "Validation Loss 0.52 | Validation Accuracy: 75.24%\n",
      "\n"
     ]
    }
   ],
   "source": [
    "train_accuracies, validation_accuraies = helpers.train_loop(\n",
    "    train_fn=train,\n",
    "    evaluate_fn=evaluate,\n",
    "    model=model,\n",
    "    train_iterator=train_iterator,\n",
    "    validation_iterator=validation_iterator,\n",
    "    optimizer=optimizer,\n",
    "    criterion=criterion,\n",
    "    epochs=EPOCHS,\n",
    "    check_point_path=PT_PATH\n",
    ")"
   ]
  },
  {
   "cell_type": "code",
   "execution_count": 114,
   "metadata": {},
   "outputs": [
    {
     "data": {
      "image/png": "[encoded data removed]",
      "text/plain": [
       "<Figure size 640x480 with 1 Axes>"
      ]
     },
     "metadata": {},
     "output_type": "display_data"
    }
   ],
   "source": [
    "helpers.plot_learning_curves(train_accuracies, validation_accuraies, model.name)"
   ]
  },
  {
   "cell_type": "markdown",
   "metadata": {},
   "source": [
    "## Multi-Layered CNN Model"
   ]
  },
  {
   "cell_type": "code",
   "execution_count": 115,
   "metadata": {},
   "outputs": [],
   "source": [
    "padding_idx = padding_idx=TEXT.vocab.stoi[TEXT.pad_token]\n",
    "unknown_idx = padding_idx=TEXT.vocab.stoi[TEXT.unk_token]\n",
    "\n",
    "model2 = CNN.Classifier(\n",
    "    input_dim=len(TEXT.vocab), \n",
    "    embedding_dim=GLOVE_DIM, \n",
    "    num_filters=50,\n",
    "    filter_sizes=[3, 4, 5, 6],\n",
    "    output_dim=1,\n",
    "    dropout_probability=0.5,\n",
    "    padding_idx=padding_idx,\n",
    "    name=\"multi_layered_CNN_model\"\n",
    ")\n",
    "\n",
    "pretrained_embeddings = TEXT.vocab.vectors\n",
    "model2.embedding.weight.data.copy_(pretrained_embeddings)\n",
    "\n",
    "model2.embedding.weight.data[padding_idx] = torch.zeros(GLOVE_DIM)\n",
    "model2.embedding.weight.data[unknown_idx] = torch.zeros(GLOVE_DIM)\n",
    "\n",
    "optimizer = optim.Adam(model2.parameters(), lr=LR)\n",
    "criterion = nn.BCEWithLogitsLoss()\n",
    "\n",
    "model2 = model2.to(device)\n",
    "criterion = criterion.to(device)"
   ]
  },
  {
   "cell_type": "code",
   "execution_count": 116,
   "metadata": {},
   "outputs": [
    {
     "name": "stdout",
     "output_type": "stream",
     "text": [
      "Epoch 1 | Elapsed: 0:00:22.760077\n",
      "Train Loss 0.72 | Train Accuracy: 52.23%\n",
      "Validation Loss 0.67 | Validation Accuracy: 62.63%\n",
      "\n",
      "Epoch 2 | Elapsed: 0:00:22.431223\n",
      "Train Loss 0.67 | Train Accuracy: 57.98%\n",
      "Validation Loss 0.64 | Validation Accuracy: 65.81%\n",
      "\n",
      "Epoch 3 | Elapsed: 0:00:22.493174\n",
      "Train Loss 0.65 | Train Accuracy: 62.12%\n",
      "Validation Loss 0.62 | Validation Accuracy: 68.40%\n",
      "\n",
      "Epoch 4 | Elapsed: 0:00:22.417181\n",
      "Train Loss 0.62 | Train Accuracy: 65.29%\n",
      "Validation Loss 0.59 | Validation Accuracy: 70.01%\n",
      "\n",
      "Epoch 5 | Elapsed: 0:00:22.404487\n",
      "Train Loss 0.61 | Train Accuracy: 67.10%\n",
      "Validation Loss 0.57 | Validation Accuracy: 71.44%\n",
      "\n",
      "Epoch 6 | Elapsed: 0:00:22.354676\n",
      "Train Loss 0.59 | Train Accuracy: 68.83%\n",
      "Validation Loss 0.56 | Validation Accuracy: 72.30%\n",
      "\n",
      "Epoch 7 | Elapsed: 0:00:22.367764\n",
      "Train Loss 0.57 | Train Accuracy: 70.05%\n",
      "Validation Loss 0.54 | Validation Accuracy: 73.37%\n",
      "\n",
      "Epoch 8 | Elapsed: 0:00:22.354252\n",
      "Train Loss 0.56 | Train Accuracy: 71.23%\n",
      "Validation Loss 0.53 | Validation Accuracy: 74.18%\n",
      "\n",
      "Epoch 9 | Elapsed: 0:00:22.381223\n",
      "Train Loss 0.55 | Train Accuracy: 71.78%\n",
      "Validation Loss 0.52 | Validation Accuracy: 74.87%\n",
      "\n",
      "Epoch 10 | Elapsed: 0:00:22.485375\n",
      "Train Loss 0.54 | Train Accuracy: 72.81%\n",
      "Validation Loss 0.51 | Validation Accuracy: 75.22%\n",
      "\n",
      "Epoch 11 | Elapsed: 0:00:22.081416\n",
      "Train Loss 0.54 | Train Accuracy: 73.14%\n",
      "Validation Loss 0.51 | Validation Accuracy: 75.70%\n",
      "\n",
      "Epoch 12 | Elapsed: 0:00:21.704815\n",
      "Train Loss 0.53 | Train Accuracy: 73.45%\n",
      "Validation Loss 0.5 | Validation Accuracy: 75.93%\n",
      "\n",
      "Epoch 13 | Elapsed: 0:00:21.767653\n",
      "Train Loss 0.52 | Train Accuracy: 74.03%\n",
      "Validation Loss 0.5 | Validation Accuracy: 76.55%\n",
      "\n",
      "Epoch 14 | Elapsed: 0:00:21.759624\n",
      "Train Loss 0.52 | Train Accuracy: 74.53%\n",
      "Validation Loss 0.49 | Validation Accuracy: 76.76%\n",
      "\n",
      "Epoch 15 | Elapsed: 0:00:21.710058\n",
      "Train Loss 0.51 | Train Accuracy: 75.23%\n",
      "Validation Loss 0.49 | Validation Accuracy: 76.96%\n",
      "\n",
      "Epoch 16 | Elapsed: 0:00:21.708220\n",
      "Train Loss 0.51 | Train Accuracy: 75.35%\n",
      "Validation Loss 0.49 | Validation Accuracy: 77.30%\n",
      "\n",
      "Epoch 17 | Elapsed: 0:00:21.720743\n",
      "Train Loss 0.5 | Train Accuracy: 75.58%\n",
      "Validation Loss 0.48 | Validation Accuracy: 77.45%\n",
      "\n",
      "Epoch 18 | Elapsed: 0:00:21.737078\n",
      "Train Loss 0.5 | Train Accuracy: 75.85%\n",
      "Validation Loss 0.48 | Validation Accuracy: 77.62%\n",
      "\n",
      "Epoch 19 | Elapsed: 0:00:21.721901\n",
      "Train Loss 0.49 | Train Accuracy: 76.31%\n",
      "Validation Loss 0.48 | Validation Accuracy: 77.71%\n",
      "\n",
      "Epoch 20 | Elapsed: 0:00:21.697879\n",
      "Train Loss 0.49 | Train Accuracy: 76.31%\n",
      "Validation Loss 0.48 | Validation Accuracy: 78.00%\n",
      "\n"
     ]
    }
   ],
   "source": [
    "train_accuracies, validation_accuraies = helpers.train_loop(\n",
    "    train_fn=train,\n",
    "    evaluate_fn=evaluate,\n",
    "    model=model2,\n",
    "    train_iterator=train_iterator,\n",
    "    validation_iterator=validation_iterator,\n",
    "    optimizer=optimizer,\n",
    "    criterion=criterion,\n",
    "    epochs=EPOCHS,\n",
    "    check_point_path=PT_PATH\n",
    ")"
   ]
  },
  {
   "cell_type": "code",
   "execution_count": 117,
   "metadata": {},
   "outputs": [
    {
     "data": {
      "image/png": "[encoded data removed]",
      "text/plain": [
       "<Figure size 640x480 with 1 Axes>"
      ]
     },
     "metadata": {},
     "output_type": "display_data"
    }
   ],
   "source": [
    "helpers.plot_learning_curves(train_accuracies, validation_accuraies, model2.name)"
   ]
  },
  {
   "cell_type": "markdown",
   "metadata": {},
   "source": [
    "# Compare the models"
   ]
  },
  {
   "cell_type": "code",
   "execution_count": 118,
   "metadata": {},
   "outputs": [
    {
     "name": "stdout",
     "output_type": "stream",
     "text": [
      "Model simple_CNN_model test accuracy: 0.7568705677986145\n",
      "Model multi_layered_CNN_model test accuracy: 0.7830230498567541\n"
     ]
    }
   ],
   "source": [
    "a, b = helpers.compare_best(PT_PATH, model, model2, evaluate, test_iterator, criterion)\n",
    "print(f\"Model {model.name} test accuracy: {a}\")\n",
    "print(f\"Model {model2.name} test accuracy: {b}\")"
   ]
  }
 ],
 "metadata": {
  "kernelspec": {
   "display_name": "Python 3 (ipykernel)",
   "language": "python",
   "name": "python3"
  },
  "language_info": {
   "codemirror_mode": {
    "name": "ipython",
    "version": 3
   },
   "file_extension": ".py",
   "mimetype": "text/x-python",
   "name": "python",
   "nbconvert_exporter": "python",
   "pygments_lexer": "ipython3",
   "version": "3.11.6"
  }
 },
 "nbformat": 4,
 "nbformat_minor": 2
}
